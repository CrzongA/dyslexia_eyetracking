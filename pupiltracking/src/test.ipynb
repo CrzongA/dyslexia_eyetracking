{
 "cells": [
  {
   "cell_type": "code",
   "execution_count": 3,
   "source": [
    "# imports\r\n",
    "import matplotlib.pyplot as plt\r\n",
    "import numpy as np\r\n",
    "import cv2 as cv\r\n",
    "from numpy.core.arrayprint import repr_format\r\n",
    "import functools, copy"
   ],
   "outputs": [],
   "metadata": {}
  },
  {
   "cell_type": "code",
   "execution_count": 4,
   "source": [
    "# constants\r\n",
    "SQRT_2 = np.sqrt(2)"
   ],
   "outputs": [],
   "metadata": {}
  },
  {
   "cell_type": "code",
   "execution_count": 5,
   "source": [
    "def resizeInput(src):\r\n",
    "    resized = cv.resize(src, None, fx=0.5, fy=0.5, interpolation=cv.INTER_CUBIC)\r\n",
    "    return resized"
   ],
   "outputs": [],
   "metadata": {}
  },
  {
   "cell_type": "code",
   "execution_count": 6,
   "source": [
    "SQRT_2 = np.sqrt(2)\r\n",
    "\r\n",
    "class HaarFeature:\r\n",
    "    def __init__(self, r1, r2) -> None:\r\n",
    "        self.r_inner = r1\r\n",
    "        self.r_outer = r2\r\n",
    "\r\n",
    "        count_inner = self.r_inner ** 2\r\n",
    "        count_outer = self.r_outer ** 2 - self.r_inner ** 2\r\n",
    "        self.val_inner = 1.0 / (self.r_inner ** 2)\r\n",
    "        self.val_outer = -self.val_inner * count_inner / count_outer\r\n"
   ],
   "outputs": [],
   "metadata": {}
  },
  {
   "cell_type": "code",
   "execution_count": 12,
   "source": [
    "# roi: y0 x0 y1 x1\r\n",
    "def getROI(src, roi, dst=None):\r\n",
    "    x0 = 0\r\n",
    "    y0 = 0\r\n",
    "    y1 = src.shape[0]\r\n",
    "    x1 = src.shape[1]\r\n",
    "    top = 0\r\n",
    "    bottom = 0\r\n",
    "    left = 0\r\n",
    "    right = 0\r\n",
    "    if roi[0] < 0 or roi[1] < 0 or roi[2] > src.shape[0] or roi[3] > src.shape[1]:\r\n",
    "        dst = copy.deepcopy(src)\r\n",
    "        if roi[0] < 0:\r\n",
    "            top = -roi[0]\r\n",
    "        if roi[1] < 0:\r\n",
    "            left = -roi[1]\r\n",
    "        if roi[2] > src.shape[0]:\r\n",
    "            bottom = roi[2] - src.shape[0]\r\n",
    "        if roi[3] > src.shape[1]:\r\n",
    "            right = roi[3] - src.shape[1]\r\n",
    "        dst = cv.copyMakeBorder(dst, top, bottom, left, right, cv.BORDER_REPLICATE)\r\n",
    "    else: dst = src[y0:y1, x0:x1, :]\r\n",
    "    return dst\r\n",
    "        \r\n",
    "\r\n",
    "def findPupilEllipse(img: np.ndarray, pupilParams, out):\r\n",
    "    padding = 2 * pupilParams.r_max\r\n",
    "    gray = cv.cvtColor(img, cv.COLOR_BGR2GRAY)\r\n",
    "    # expand img to allow haar kernel to scan all edges without out-of-bound cases.\r\n",
    "    imgPad = cv.copyMakeBorder(gray, padding, padding, padding, padding, cv.BORDER_REPLICATE)\r\n",
    "    integral = cv.integral(imgPad)\r\n",
    "\r\n",
    "    haarRadius = 0\r\n",
    "    rstep = 2\r\n",
    "    ystep = 4\r\n",
    "    xstep = 4\r\n",
    "\r\n",
    "    minResponse = np.Infinity\r\n",
    "    minValPoint = []\r\n",
    "    minValIn = [minResponse, minValPoint, 0]\r\n",
    "    minValOut = copy.deepcopy(minValIn)\r\n",
    "    pHaarPupil = ()\r\n",
    "\r\n",
    "    # for each iteration of ellipse with radius r,\r\n",
    "    # calculate the sums of inner and outer areas of the haar feature\r\n",
    "    for r in range(pupilParams.r_min, pupilParams.r_max, rstep):\r\n",
    "        r_inner = r\r\n",
    "        r_outer = 3*r\r\n",
    "        hf = HaarFeature(r_inner, r_outer)\r\n",
    "\r\n",
    "        # **unoptimized**\r\n",
    "        for y in range(0, (img.shape[0] - r - r -1)//ystep + 1, ystep):\r\n",
    "            # original illustration of haar kernel and corresponding points, too good not to copy.\r\n",
    "            # row1_outer.|         |  p00._____________________.p01\r\n",
    "            #            |         |     |         Haar kernel |\r\n",
    "            #            |         |     |                     |\r\n",
    "            # row1_inner.|         |     |   p00._______.p01   |\r\n",
    "            #            |-padding-|     |      |       |      |\r\n",
    "            #            |         |     |      | (x,y) |      |\r\n",
    "            # row2_inner.|         |     |      |_______|      |\r\n",
    "            #            |         |     |   p10'       'p11   |\r\n",
    "            #            |         |     |                     |\r\n",
    "            # row2_outer.|         |     |_____________________|\r\n",
    "            #            |         |  p10'                     'p11\r\n",
    "\r\n",
    "            upper_inner = integral[y + padding - r_inner]\r\n",
    "            lower_inner = integral[y + padding + r_inner + 1]\r\n",
    "            upper_outer = integral[y + padding - r_outer]\r\n",
    "            lower_outer = integral[y + padding + r_outer + 1]\r\n",
    "\r\n",
    "            p00_inner = upper_inner[r + padding - r_inner]\r\n",
    "            p01_inner = upper_inner[r + padding + r_inner + 1]\r\n",
    "            p10_inner = lower_inner[r + padding - r_inner]\r\n",
    "            p11_inner = lower_inner[r + padding + r_inner + 1]\r\n",
    "\r\n",
    "            p00_outer = upper_outer[r + padding - r_outer]\r\n",
    "            p01_outer = upper_outer[r + padding + r_outer + 1]\r\n",
    "            p10_outer = lower_outer[r + padding - r_outer]\r\n",
    "            p11_outer = lower_outer[r + padding + r_outer + 1]\r\n",
    "            \r\n",
    "            for x in range(r, img.shape[1] - r, xstep):\r\n",
    "                sumInner = p00_inner + p11_inner - p01_inner - p10_inner\r\n",
    "                sumOuter = p00_outer + p11_outer - p01_outer - p10_outer - sumInner\r\n",
    "\r\n",
    "                response = hf.val_inner * sumInner + hf.val_outer * sumOuter\r\n",
    "\r\n",
    "                if (response < minResponse):\r\n",
    "                    minValOut[0] = response\r\n",
    "                    minValOut[1] = (x, y)\r\n",
    "                \r\n",
    "                p00_inner += xstep\r\n",
    "                p01_inner += xstep\r\n",
    "                p10_inner += xstep\r\n",
    "                p11_inner += xstep\r\n",
    "\r\n",
    "                p00_outer += xstep\r\n",
    "                p01_outer += xstep\r\n",
    "                p10_outer += xstep\r\n",
    "                p11_outer += xstep\r\n",
    "        if (minValOut[0] < minResponse):\r\n",
    "            minResponse = minValOut[0]\r\n",
    "            pHaarPupil = minValOut[1]\r\n",
    "            minValOut[2] = haarRadius = r\r\n",
    "            print(response)\r\n",
    "    \r\n",
    "    haarRadius = (int)(haarRadius * SQRT_2)\r\n",
    "\r\n",
    "    roiHaarPupil = (pHaarPupil[1]-r, pHaarPupil[0]-r, pHaarPupil[1]+r, pHaarPupil[0]+r) # y0 x0 y1 x1\r\n",
    "    mHaarPupil = getROI(img, roiHaarPupil)\r\n",
    "\r\n",
    "    # calculate histogram of pupil\r\n",
    "    hist = cv.calcHist(mHaarPupil, [1], None, [256], (0, 256))\r\n",
    "\r\n",
    "    return (roiHaarPupil, mHaarPupil, hist, minValOut)\r\n"
   ],
   "outputs": [],
   "metadata": {}
  },
  {
   "cell_type": "code",
   "execution_count": 21,
   "source": [
    "# capture one frame for sample\r\n",
    "# cap = cv.VideoCapture('F:\\\\LEONLAH\\\\myprojects\\\\dyslexia_eyetracking\\\\docs\\\\eyesmaple-d.jpg')\r\n",
    "cap = cv.VideoCapture('C:\\\\LEONLAH\\\\myprojects\\\\dyslexia_eyetracking\\\\docs\\\\eyesample-2.jpg')\r\n",
    "_, frame = cap.read()\r\n",
    "cap.release()\r\n",
    "frame = resizeInput(frame)\r\n",
    "frame = frame[0:frame.shape[0], 0:(int)(frame.shape[1]*0.8), :]"
   ],
   "outputs": [],
   "metadata": {}
  },
  {
   "cell_type": "code",
   "execution_count": 22,
   "source": [
    "class pupilParams:\r\n",
    "    def __init__(self):\r\n",
    "        self.r_min = 50\r\n",
    "        self.r_max = 100\r\n",
    "    \r\n",
    "    def setparam(self, min, max):\r\n",
    "        self.r_max = max\r\n",
    "        self.r_min = min\r\n",
    "\r\n",
    "pp = pupilParams()\r\n",
    "roiHaarPupil, mHaarPupil, hist, minRes = findPupilEllipse(frame, pp, None)"
   ],
   "outputs": [
    {
     "output_type": "stream",
     "name": "stdout",
     "text": [
      "-41.045349999999985\n",
      "-42.68500369822482\n",
      "-42.84799382716051\n",
      "-43.49669164540819\n",
      "-43.737997919143936\n"
     ]
    }
   ],
   "metadata": {}
  },
  {
   "cell_type": "code",
   "execution_count": 128,
   "source": [
    "padding = 2 * 10\r\n",
    "gray = cv.cvtColor(frame, cv.COLOR_BGR2GRAY)\r\n",
    "# expand img to allow haar kernel to scan all edges without out-of-bound cases.\r\n",
    "imgPad = cv.copyMakeBorder(gray, padding, padding, padding, padding, cv.BORDER_REPLICATE)\r\n",
    "integral = cv.integral(imgPad)"
   ],
   "outputs": [],
   "metadata": {}
  },
  {
   "cell_type": "code",
   "execution_count": 20,
   "source": [
    "histSize = [256]\r\n",
    "histRange = (0, 256)\r\n",
    "b_hist = cv.calcHist(mHaarPupil, [0], None, histSize, histRange, accumulate=False)\r\n",
    "g_hist = cv.calcHist(mHaarPupil, [1], None, histSize, histRange, accumulate=False)\r\n",
    "r_hist = cv.calcHist(mHaarPupil, [2], None, histSize, histRange, accumulate=False)\r\n",
    "p1, ax1 = plt.subplots()\r\n",
    "# p2, ax2 = plt.subplots()\r\n",
    "ax1.plot(b_hist)\r\n",
    "ax1.plot(g_hist)\r\n",
    "ax1.plot(r_hist)"
   ],
   "outputs": [
    {
     "output_type": "execute_result",
     "data": {
      "text/plain": [
       "[<matplotlib.lines.Line2D at 0x2774ae56cd0>]"
      ]
     },
     "metadata": {},
     "execution_count": 20
    },
    {
     "output_type": "display_data",
     "data": {
      "text/plain": [
       "<Figure size 432x288 with 1 Axes>"
      ],
      "image/svg+xml": "<?xml version=\"1.0\" encoding=\"utf-8\" standalone=\"no\"?>\r\n<!DOCTYPE svg PUBLIC \"-//W3C//DTD SVG 1.1//EN\"\r\n  \"http://www.w3.org/Graphics/SVG/1.1/DTD/svg11.dtd\">\r\n<svg height=\"250.670071pt\" version=\"1.1\" viewBox=\"0 0 375.2875 250.670071\" width=\"375.2875pt\" xmlns=\"http://www.w3.org/2000/svg\" xmlns:xlink=\"http://www.w3.org/1999/xlink\">\r\n <metadata>\r\n  <rdf:RDF xmlns:cc=\"http://creativecommons.org/ns#\" xmlns:dc=\"http://purl.org/dc/elements/1.1/\" xmlns:rdf=\"http://www.w3.org/1999/02/22-rdf-syntax-ns#\">\r\n   <cc:Work>\r\n    <dc:type rdf:resource=\"http://purl.org/dc/dcmitype/StillImage\"/>\r\n    <dc:date>2021-08-31T22:48:36.261236</dc:date>\r\n    <dc:format>image/svg+xml</dc:format>\r\n    <dc:creator>\r\n     <cc:Agent>\r\n      <dc:title>Matplotlib v3.4.3, https://matplotlib.org/</dc:title>\r\n     </cc:Agent>\r\n    </dc:creator>\r\n   </cc:Work>\r\n  </rdf:RDF>\r\n </metadata>\r\n <defs>\r\n  <style type=\"text/css\">*{stroke-linecap:butt;stroke-linejoin:round;}</style>\r\n </defs>\r\n <g id=\"figure_1\">\r\n  <g id=\"patch_1\">\r\n   <path d=\"M 0 250.670071 \r\nL 375.2875 250.670071 \r\nL 375.2875 0 \r\nL 0 0 \r\nz\r\n\" style=\"fill:none;\"/>\r\n  </g>\r\n  <g id=\"axes_1\">\r\n   <g id=\"patch_2\">\r\n    <path d=\"M 33.2875 226.791946 \r\nL 368.0875 226.791946 \r\nL 368.0875 9.351946 \r\nL 33.2875 9.351946 \r\nz\r\n\" style=\"fill:#ffffff;\"/>\r\n   </g>\r\n   <g id=\"matplotlib.axis_1\">\r\n    <g id=\"xtick_1\">\r\n     <g id=\"line2d_1\">\r\n      <defs>\r\n       <path d=\"M 0 0 \r\nL 0 3.5 \r\n\" id=\"m6be0a2f967\" style=\"stroke:#000000;stroke-width:0.8;\"/>\r\n      </defs>\r\n      <g>\r\n       <use style=\"stroke:#000000;stroke-width:0.8;\" x=\"48.505682\" xlink:href=\"#m6be0a2f967\" y=\"226.791946\"/>\r\n      </g>\r\n     </g>\r\n     <g id=\"text_1\">\r\n      <!-- 0 -->\r\n      <g transform=\"translate(45.324432 241.390384)scale(0.1 -0.1)\">\r\n       <defs>\r\n        <path d=\"M 2034 4250 \r\nQ 1547 4250 1301 3770 \r\nQ 1056 3291 1056 2328 \r\nQ 1056 1369 1301 889 \r\nQ 1547 409 2034 409 \r\nQ 2525 409 2770 889 \r\nQ 3016 1369 3016 2328 \r\nQ 3016 3291 2770 3770 \r\nQ 2525 4250 2034 4250 \r\nz\r\nM 2034 4750 \r\nQ 2819 4750 3233 4129 \r\nQ 3647 3509 3647 2328 \r\nQ 3647 1150 3233 529 \r\nQ 2819 -91 2034 -91 \r\nQ 1250 -91 836 529 \r\nQ 422 1150 422 2328 \r\nQ 422 3509 836 4129 \r\nQ 1250 4750 2034 4750 \r\nz\r\n\" id=\"DejaVuSans-30\" transform=\"scale(0.015625)\"/>\r\n       </defs>\r\n       <use xlink:href=\"#DejaVuSans-30\"/>\r\n      </g>\r\n     </g>\r\n    </g>\r\n    <g id=\"xtick_2\">\r\n     <g id=\"line2d_2\">\r\n      <g>\r\n       <use style=\"stroke:#000000;stroke-width:0.8;\" x=\"108.184826\" xlink:href=\"#m6be0a2f967\" y=\"226.791946\"/>\r\n      </g>\r\n     </g>\r\n     <g id=\"text_2\">\r\n      <!-- 50 -->\r\n      <g transform=\"translate(101.822326 241.390384)scale(0.1 -0.1)\">\r\n       <defs>\r\n        <path d=\"M 691 4666 \r\nL 3169 4666 \r\nL 3169 4134 \r\nL 1269 4134 \r\nL 1269 2991 \r\nQ 1406 3038 1543 3061 \r\nQ 1681 3084 1819 3084 \r\nQ 2600 3084 3056 2656 \r\nQ 3513 2228 3513 1497 \r\nQ 3513 744 3044 326 \r\nQ 2575 -91 1722 -91 \r\nQ 1428 -91 1123 -41 \r\nQ 819 9 494 109 \r\nL 494 744 \r\nQ 775 591 1075 516 \r\nQ 1375 441 1709 441 \r\nQ 2250 441 2565 725 \r\nQ 2881 1009 2881 1497 \r\nQ 2881 1984 2565 2268 \r\nQ 2250 2553 1709 2553 \r\nQ 1456 2553 1204 2497 \r\nQ 953 2441 691 2322 \r\nL 691 4666 \r\nz\r\n\" id=\"DejaVuSans-35\" transform=\"scale(0.015625)\"/>\r\n       </defs>\r\n       <use xlink:href=\"#DejaVuSans-35\"/>\r\n       <use x=\"63.623047\" xlink:href=\"#DejaVuSans-30\"/>\r\n      </g>\r\n     </g>\r\n    </g>\r\n    <g id=\"xtick_3\">\r\n     <g id=\"line2d_3\">\r\n      <g>\r\n       <use style=\"stroke:#000000;stroke-width:0.8;\" x=\"167.863971\" xlink:href=\"#m6be0a2f967\" y=\"226.791946\"/>\r\n      </g>\r\n     </g>\r\n     <g id=\"text_3\">\r\n      <!-- 100 -->\r\n      <g transform=\"translate(158.320221 241.390384)scale(0.1 -0.1)\">\r\n       <defs>\r\n        <path d=\"M 794 531 \r\nL 1825 531 \r\nL 1825 4091 \r\nL 703 3866 \r\nL 703 4441 \r\nL 1819 4666 \r\nL 2450 4666 \r\nL 2450 531 \r\nL 3481 531 \r\nL 3481 0 \r\nL 794 0 \r\nL 794 531 \r\nz\r\n\" id=\"DejaVuSans-31\" transform=\"scale(0.015625)\"/>\r\n       </defs>\r\n       <use xlink:href=\"#DejaVuSans-31\"/>\r\n       <use x=\"63.623047\" xlink:href=\"#DejaVuSans-30\"/>\r\n       <use x=\"127.246094\" xlink:href=\"#DejaVuSans-30\"/>\r\n      </g>\r\n     </g>\r\n    </g>\r\n    <g id=\"xtick_4\">\r\n     <g id=\"line2d_4\">\r\n      <g>\r\n       <use style=\"stroke:#000000;stroke-width:0.8;\" x=\"227.543115\" xlink:href=\"#m6be0a2f967\" y=\"226.791946\"/>\r\n      </g>\r\n     </g>\r\n     <g id=\"text_4\">\r\n      <!-- 150 -->\r\n      <g transform=\"translate(217.999365 241.390384)scale(0.1 -0.1)\">\r\n       <use xlink:href=\"#DejaVuSans-31\"/>\r\n       <use x=\"63.623047\" xlink:href=\"#DejaVuSans-35\"/>\r\n       <use x=\"127.246094\" xlink:href=\"#DejaVuSans-30\"/>\r\n      </g>\r\n     </g>\r\n    </g>\r\n    <g id=\"xtick_5\">\r\n     <g id=\"line2d_5\">\r\n      <g>\r\n       <use style=\"stroke:#000000;stroke-width:0.8;\" x=\"287.222259\" xlink:href=\"#m6be0a2f967\" y=\"226.791946\"/>\r\n      </g>\r\n     </g>\r\n     <g id=\"text_5\">\r\n      <!-- 200 -->\r\n      <g transform=\"translate(277.678509 241.390384)scale(0.1 -0.1)\">\r\n       <defs>\r\n        <path d=\"M 1228 531 \r\nL 3431 531 \r\nL 3431 0 \r\nL 469 0 \r\nL 469 531 \r\nQ 828 903 1448 1529 \r\nQ 2069 2156 2228 2338 \r\nQ 2531 2678 2651 2914 \r\nQ 2772 3150 2772 3378 \r\nQ 2772 3750 2511 3984 \r\nQ 2250 4219 1831 4219 \r\nQ 1534 4219 1204 4116 \r\nQ 875 4013 500 3803 \r\nL 500 4441 \r\nQ 881 4594 1212 4672 \r\nQ 1544 4750 1819 4750 \r\nQ 2544 4750 2975 4387 \r\nQ 3406 4025 3406 3419 \r\nQ 3406 3131 3298 2873 \r\nQ 3191 2616 2906 2266 \r\nQ 2828 2175 2409 1742 \r\nQ 1991 1309 1228 531 \r\nz\r\n\" id=\"DejaVuSans-32\" transform=\"scale(0.015625)\"/>\r\n       </defs>\r\n       <use xlink:href=\"#DejaVuSans-32\"/>\r\n       <use x=\"63.623047\" xlink:href=\"#DejaVuSans-30\"/>\r\n       <use x=\"127.246094\" xlink:href=\"#DejaVuSans-30\"/>\r\n      </g>\r\n     </g>\r\n    </g>\r\n    <g id=\"xtick_6\">\r\n     <g id=\"line2d_6\">\r\n      <g>\r\n       <use style=\"stroke:#000000;stroke-width:0.8;\" x=\"346.901404\" xlink:href=\"#m6be0a2f967\" y=\"226.791946\"/>\r\n      </g>\r\n     </g>\r\n     <g id=\"text_6\">\r\n      <!-- 250 -->\r\n      <g transform=\"translate(337.357654 241.390384)scale(0.1 -0.1)\">\r\n       <use xlink:href=\"#DejaVuSans-32\"/>\r\n       <use x=\"63.623047\" xlink:href=\"#DejaVuSans-35\"/>\r\n       <use x=\"127.246094\" xlink:href=\"#DejaVuSans-30\"/>\r\n      </g>\r\n     </g>\r\n    </g>\r\n   </g>\r\n   <g id=\"matplotlib.axis_2\">\r\n    <g id=\"ytick_1\">\r\n     <g id=\"line2d_7\">\r\n      <defs>\r\n       <path d=\"M 0 0 \r\nL -3.5 0 \r\n\" id=\"me21521a161\" style=\"stroke:#000000;stroke-width:0.8;\"/>\r\n      </defs>\r\n      <g>\r\n       <use style=\"stroke:#000000;stroke-width:0.8;\" x=\"33.2875\" xlink:href=\"#me21521a161\" y=\"216.90831\"/>\r\n      </g>\r\n     </g>\r\n     <g id=\"text_7\">\r\n      <!-- 0 -->\r\n      <g transform=\"translate(19.925 220.707528)scale(0.1 -0.1)\">\r\n       <use xlink:href=\"#DejaVuSans-30\"/>\r\n      </g>\r\n     </g>\r\n    </g>\r\n    <g id=\"ytick_2\">\r\n     <g id=\"line2d_8\">\r\n      <g>\r\n       <use style=\"stroke:#000000;stroke-width:0.8;\" x=\"33.2875\" xlink:href=\"#me21521a161\" y=\"175.726491\"/>\r\n      </g>\r\n     </g>\r\n     <g id=\"text_8\">\r\n      <!-- 20 -->\r\n      <g transform=\"translate(13.5625 179.52571)scale(0.1 -0.1)\">\r\n       <use xlink:href=\"#DejaVuSans-32\"/>\r\n       <use x=\"63.623047\" xlink:href=\"#DejaVuSans-30\"/>\r\n      </g>\r\n     </g>\r\n    </g>\r\n    <g id=\"ytick_3\">\r\n     <g id=\"line2d_9\">\r\n      <g>\r\n       <use style=\"stroke:#000000;stroke-width:0.8;\" x=\"33.2875\" xlink:href=\"#me21521a161\" y=\"134.544673\"/>\r\n      </g>\r\n     </g>\r\n     <g id=\"text_9\">\r\n      <!-- 40 -->\r\n      <g transform=\"translate(13.5625 138.343892)scale(0.1 -0.1)\">\r\n       <defs>\r\n        <path d=\"M 2419 4116 \r\nL 825 1625 \r\nL 2419 1625 \r\nL 2419 4116 \r\nz\r\nM 2253 4666 \r\nL 3047 4666 \r\nL 3047 1625 \r\nL 3713 1625 \r\nL 3713 1100 \r\nL 3047 1100 \r\nL 3047 0 \r\nL 2419 0 \r\nL 2419 1100 \r\nL 313 1100 \r\nL 313 1709 \r\nL 2253 4666 \r\nz\r\n\" id=\"DejaVuSans-34\" transform=\"scale(0.015625)\"/>\r\n       </defs>\r\n       <use xlink:href=\"#DejaVuSans-34\"/>\r\n       <use x=\"63.623047\" xlink:href=\"#DejaVuSans-30\"/>\r\n      </g>\r\n     </g>\r\n    </g>\r\n    <g id=\"ytick_4\">\r\n     <g id=\"line2d_10\">\r\n      <g>\r\n       <use style=\"stroke:#000000;stroke-width:0.8;\" x=\"33.2875\" xlink:href=\"#me21521a161\" y=\"93.362855\"/>\r\n      </g>\r\n     </g>\r\n     <g id=\"text_10\">\r\n      <!-- 60 -->\r\n      <g transform=\"translate(13.5625 97.162074)scale(0.1 -0.1)\">\r\n       <defs>\r\n        <path d=\"M 2113 2584 \r\nQ 1688 2584 1439 2293 \r\nQ 1191 2003 1191 1497 \r\nQ 1191 994 1439 701 \r\nQ 1688 409 2113 409 \r\nQ 2538 409 2786 701 \r\nQ 3034 994 3034 1497 \r\nQ 3034 2003 2786 2293 \r\nQ 2538 2584 2113 2584 \r\nz\r\nM 3366 4563 \r\nL 3366 3988 \r\nQ 3128 4100 2886 4159 \r\nQ 2644 4219 2406 4219 \r\nQ 1781 4219 1451 3797 \r\nQ 1122 3375 1075 2522 \r\nQ 1259 2794 1537 2939 \r\nQ 1816 3084 2150 3084 \r\nQ 2853 3084 3261 2657 \r\nQ 3669 2231 3669 1497 \r\nQ 3669 778 3244 343 \r\nQ 2819 -91 2113 -91 \r\nQ 1303 -91 875 529 \r\nQ 447 1150 447 2328 \r\nQ 447 3434 972 4092 \r\nQ 1497 4750 2381 4750 \r\nQ 2619 4750 2861 4703 \r\nQ 3103 4656 3366 4563 \r\nz\r\n\" id=\"DejaVuSans-36\" transform=\"scale(0.015625)\"/>\r\n       </defs>\r\n       <use xlink:href=\"#DejaVuSans-36\"/>\r\n       <use x=\"63.623047\" xlink:href=\"#DejaVuSans-30\"/>\r\n      </g>\r\n     </g>\r\n    </g>\r\n    <g id=\"ytick_5\">\r\n     <g id=\"line2d_11\">\r\n      <g>\r\n       <use style=\"stroke:#000000;stroke-width:0.8;\" x=\"33.2875\" xlink:href=\"#me21521a161\" y=\"52.181037\"/>\r\n      </g>\r\n     </g>\r\n     <g id=\"text_11\">\r\n      <!-- 80 -->\r\n      <g transform=\"translate(13.5625 55.980256)scale(0.1 -0.1)\">\r\n       <defs>\r\n        <path d=\"M 2034 2216 \r\nQ 1584 2216 1326 1975 \r\nQ 1069 1734 1069 1313 \r\nQ 1069 891 1326 650 \r\nQ 1584 409 2034 409 \r\nQ 2484 409 2743 651 \r\nQ 3003 894 3003 1313 \r\nQ 3003 1734 2745 1975 \r\nQ 2488 2216 2034 2216 \r\nz\r\nM 1403 2484 \r\nQ 997 2584 770 2862 \r\nQ 544 3141 544 3541 \r\nQ 544 4100 942 4425 \r\nQ 1341 4750 2034 4750 \r\nQ 2731 4750 3128 4425 \r\nQ 3525 4100 3525 3541 \r\nQ 3525 3141 3298 2862 \r\nQ 3072 2584 2669 2484 \r\nQ 3125 2378 3379 2068 \r\nQ 3634 1759 3634 1313 \r\nQ 3634 634 3220 271 \r\nQ 2806 -91 2034 -91 \r\nQ 1263 -91 848 271 \r\nQ 434 634 434 1313 \r\nQ 434 1759 690 2068 \r\nQ 947 2378 1403 2484 \r\nz\r\nM 1172 3481 \r\nQ 1172 3119 1398 2916 \r\nQ 1625 2713 2034 2713 \r\nQ 2441 2713 2670 2916 \r\nQ 2900 3119 2900 3481 \r\nQ 2900 3844 2670 4047 \r\nQ 2441 4250 2034 4250 \r\nQ 1625 4250 1398 4047 \r\nQ 1172 3844 1172 3481 \r\nz\r\n\" id=\"DejaVuSans-38\" transform=\"scale(0.015625)\"/>\r\n       </defs>\r\n       <use xlink:href=\"#DejaVuSans-38\"/>\r\n       <use x=\"63.623047\" xlink:href=\"#DejaVuSans-30\"/>\r\n      </g>\r\n     </g>\r\n    </g>\r\n    <g id=\"ytick_6\">\r\n     <g id=\"line2d_12\">\r\n      <g>\r\n       <use style=\"stroke:#000000;stroke-width:0.8;\" x=\"33.2875\" xlink:href=\"#me21521a161\" y=\"10.999219\"/>\r\n      </g>\r\n     </g>\r\n     <g id=\"text_12\">\r\n      <!-- 100 -->\r\n      <g transform=\"translate(7.2 14.798437)scale(0.1 -0.1)\">\r\n       <use xlink:href=\"#DejaVuSans-31\"/>\r\n       <use x=\"63.623047\" xlink:href=\"#DejaVuSans-30\"/>\r\n       <use x=\"127.246094\" xlink:href=\"#DejaVuSans-30\"/>\r\n      </g>\r\n     </g>\r\n    </g>\r\n   </g>\r\n   <g id=\"line2d_13\">\r\n    <path clip-path=\"url(#p181d9f721c)\" d=\"M 48.505682 216.90831 \r\nL 108.184826 216.90831 \r\nL 109.378409 214.849219 \r\nL 111.765575 214.849219 \r\nL 112.959158 212.790128 \r\nL 114.152741 214.849219 \r\nL 115.346324 208.671946 \r\nL 116.539906 200.435582 \r\nL 117.733489 208.671946 \r\nL 118.927072 204.553764 \r\nL 120.120655 212.790128 \r\nL 121.314238 210.731037 \r\nL 122.507821 204.553764 \r\nL 123.701404 196.317401 \r\nL 124.894987 200.435582 \r\nL 126.08857 212.790128 \r\nL 127.282152 202.494673 \r\nL 128.475735 206.612855 \r\nL 129.669318 198.376491 \r\nL 130.862901 122.190128 \r\nL 132.056484 200.435582 \r\nL 133.250067 188.081037 \r\nL 134.44365 196.317401 \r\nL 135.637233 210.731037 \r\nL 136.830816 214.849219 \r\nL 138.024398 208.671946 \r\nL 139.217981 216.90831 \r\nL 140.411564 214.849219 \r\nL 141.605147 214.849219 \r\nL 142.79873 216.90831 \r\nL 143.992313 214.849219 \r\nL 145.185896 216.90831 \r\nL 148.766644 216.90831 \r\nL 149.960227 212.790128 \r\nL 151.15381 216.90831 \r\nL 152.347393 210.731037 \r\nL 153.540976 216.90831 \r\nL 155.928142 208.671946 \r\nL 157.121725 208.671946 \r\nL 158.315307 206.612855 \r\nL 159.50889 202.494673 \r\nL 160.702473 190.140128 \r\nL 161.896056 188.081037 \r\nL 163.089639 163.371946 \r\nL 164.283222 177.785582 \r\nL 165.476805 161.312855 \r\nL 166.670388 155.135582 \r\nL 167.863971 140.721946 \r\nL 169.057553 132.485582 \r\nL 170.251136 95.421946 \r\nL 171.444719 151.017401 \r\nL 172.638302 124.249219 \r\nL 173.831885 155.135582 \r\nL 175.025468 126.30831 \r\nL 176.219051 153.076491 \r\nL 177.412634 93.362855 \r\nL 178.606217 138.662855 \r\nL 179.799799 118.071946 \r\nL 180.993382 146.899219 \r\nL 182.186965 140.721946 \r\nL 183.380548 159.253764 \r\nL 184.574131 157.194673 \r\nL 185.767714 186.021946 \r\nL 186.961297 159.253764 \r\nL 188.15488 179.844673 \r\nL 189.348463 163.371946 \r\nL 190.542045 173.667401 \r\nL 191.735628 188.081037 \r\nL 192.929211 155.135582 \r\nL 194.122794 183.962855 \r\nL 195.316377 186.021946 \r\nL 196.50996 175.726491 \r\nL 197.703543 159.253764 \r\nL 198.897126 190.140128 \r\nL 200.090709 101.599219 \r\nL 201.284291 134.544673 \r\nL 202.477874 87.185582 \r\nL 203.671457 179.844673 \r\nL 204.86504 190.140128 \r\nL 206.058623 173.667401 \r\nL 207.252206 155.135582 \r\nL 209.639372 196.317401 \r\nL 210.832955 183.962855 \r\nL 212.026537 190.140128 \r\nL 213.22012 183.962855 \r\nL 214.413703 179.844673 \r\nL 215.607286 169.549219 \r\nL 216.800869 169.549219 \r\nL 217.994452 161.312855 \r\nL 219.188035 167.490128 \r\nL 220.381618 113.953764 \r\nL 221.575201 91.303764 \r\nL 222.768783 140.721946 \r\nL 223.962366 140.721946 \r\nL 225.155949 165.431037 \r\nL 226.349532 85.126491 \r\nL 227.543115 120.131037 \r\nL 228.736698 101.599219 \r\nL 229.930281 140.721946 \r\nL 231.123864 173.667401 \r\nL 232.317447 122.190128 \r\nL 233.511029 132.485582 \r\nL 234.704612 78.949219 \r\nL 235.898195 122.190128 \r\nL 237.091778 132.485582 \r\nL 238.285361 175.726491 \r\nL 239.478944 148.95831 \r\nL 240.672527 153.076491 \r\nL 241.86611 132.485582 \r\nL 243.059693 165.431037 \r\nL 244.253275 204.553764 \r\nL 245.446858 194.25831 \r\nL 246.640441 196.317401 \r\nL 247.834024 200.435582 \r\nL 250.22119 204.553764 \r\nL 251.414773 214.849219 \r\nL 252.608356 204.553764 \r\nL 253.801939 204.553764 \r\nL 254.995521 208.671946 \r\nL 256.189104 190.140128 \r\nL 257.382687 196.317401 \r\nL 258.57627 186.021946 \r\nL 259.769853 177.785582 \r\nL 260.963436 200.435582 \r\nL 262.157019 198.376491 \r\nL 263.350602 206.612855 \r\nL 264.544184 186.021946 \r\nL 265.737767 194.25831 \r\nL 266.93135 188.081037 \r\nL 268.124933 206.612855 \r\nL 269.318516 206.612855 \r\nL 270.512099 212.790128 \r\nL 271.705682 204.553764 \r\nL 272.899265 208.671946 \r\nL 274.092848 190.140128 \r\nL 275.28643 208.671946 \r\nL 276.480013 208.671946 \r\nL 277.673596 188.081037 \r\nL 278.867179 194.25831 \r\nL 280.060762 210.731037 \r\nL 281.254345 202.494673 \r\nL 282.447928 202.494673 \r\nL 283.641511 186.021946 \r\nL 284.835094 208.671946 \r\nL 286.028676 208.671946 \r\nL 287.222259 188.081037 \r\nL 288.415842 204.553764 \r\nL 289.609425 188.081037 \r\nL 290.803008 200.435582 \r\nL 291.996591 183.962855 \r\nL 293.190174 202.494673 \r\nL 294.383757 186.021946 \r\nL 295.57734 212.790128 \r\nL 296.770922 200.435582 \r\nL 297.964505 208.671946 \r\nL 299.158088 204.553764 \r\nL 300.351671 208.671946 \r\nL 301.545254 208.671946 \r\nL 302.738837 206.612855 \r\nL 303.93242 210.731037 \r\nL 305.126003 210.731037 \r\nL 306.319586 212.790128 \r\nL 307.513168 200.435582 \r\nL 308.706751 200.435582 \r\nL 309.900334 202.494673 \r\nL 311.093917 194.25831 \r\nL 312.2875 210.731037 \r\nL 313.481083 202.494673 \r\nL 314.674666 204.553764 \r\nL 315.868249 210.731037 \r\nL 317.061832 202.494673 \r\nL 318.255414 204.553764 \r\nL 319.448997 194.25831 \r\nL 320.64258 206.612855 \r\nL 321.836163 210.731037 \r\nL 324.223329 214.849219 \r\nL 325.416912 212.790128 \r\nL 326.610495 216.90831 \r\nL 327.804078 214.849219 \r\nL 328.99766 214.849219 \r\nL 330.191243 210.731037 \r\nL 331.384826 214.849219 \r\nL 332.578409 216.90831 \r\nL 333.771992 214.849219 \r\nL 334.965575 214.849219 \r\nL 336.159158 212.790128 \r\nL 337.352741 208.671946 \r\nL 338.546324 216.90831 \r\nL 340.933489 216.90831 \r\nL 342.127072 210.731037 \r\nL 343.320655 210.731037 \r\nL 345.707821 214.849219 \r\nL 348.094987 210.731037 \r\nL 349.28857 200.435582 \r\nL 350.482152 200.435582 \r\nL 352.869318 192.199219 \r\nL 352.869318 192.199219 \r\n\" style=\"fill:none;stroke:#1f77b4;stroke-linecap:square;stroke-width:1.5;\"/>\r\n   </g>\r\n   <g id=\"line2d_14\">\r\n    <path clip-path=\"url(#p181d9f721c)\" d=\"M 48.505682 216.90831 \r\nL 110.571992 216.90831 \r\nL 111.765575 214.849219 \r\nL 112.959158 214.849219 \r\nL 114.152741 208.671946 \r\nL 115.346324 212.790128 \r\nL 116.539906 206.612855 \r\nL 117.733489 204.553764 \r\nL 118.927072 204.553764 \r\nL 120.120655 206.612855 \r\nL 121.314238 212.790128 \r\nL 123.701404 196.317401 \r\nL 124.894987 214.849219 \r\nL 126.08857 204.553764 \r\nL 127.282152 198.376491 \r\nL 128.475735 200.435582 \r\nL 129.669318 200.435582 \r\nL 130.862901 126.30831 \r\nL 132.056484 200.435582 \r\nL 133.250067 196.317401 \r\nL 134.44365 188.081037 \r\nL 135.637233 208.671946 \r\nL 136.830816 212.790128 \r\nL 138.024398 212.790128 \r\nL 139.217981 216.90831 \r\nL 140.411564 210.731037 \r\nL 141.605147 214.849219 \r\nL 142.79873 216.90831 \r\nL 143.992313 214.849219 \r\nL 145.185896 216.90831 \r\nL 149.960227 216.90831 \r\nL 151.15381 214.849219 \r\nL 152.347393 210.731037 \r\nL 153.540976 214.849219 \r\nL 154.734559 212.790128 \r\nL 155.928142 208.671946 \r\nL 157.121725 214.849219 \r\nL 158.315307 206.612855 \r\nL 159.50889 204.553764 \r\nL 160.702473 181.903764 \r\nL 161.896056 186.021946 \r\nL 163.089639 177.785582 \r\nL 164.283222 177.785582 \r\nL 165.476805 144.840128 \r\nL 166.670388 148.95831 \r\nL 167.863971 122.190128 \r\nL 169.057553 151.017401 \r\nL 170.251136 89.244673 \r\nL 171.444719 144.840128 \r\nL 172.638302 151.017401 \r\nL 175.025468 155.135582 \r\nL 176.219051 132.485582 \r\nL 177.412634 91.303764 \r\nL 178.606217 142.781037 \r\nL 179.799799 120.131037 \r\nL 180.993382 134.544673 \r\nL 182.186965 144.840128 \r\nL 183.380548 138.662855 \r\nL 184.574131 169.549219 \r\nL 185.767714 144.840128 \r\nL 186.961297 163.371946 \r\nL 188.15488 192.199219 \r\nL 189.348463 179.844673 \r\nL 190.542045 181.903764 \r\nL 191.735628 186.021946 \r\nL 192.929211 183.962855 \r\nL 194.122794 175.726491 \r\nL 195.316377 171.60831 \r\nL 196.50996 179.844673 \r\nL 197.703543 169.549219 \r\nL 198.897126 177.785582 \r\nL 200.090709 105.717401 \r\nL 201.284291 138.662855 \r\nL 202.477874 85.126491 \r\nL 203.671457 186.021946 \r\nL 204.86504 188.081037 \r\nL 206.058623 177.785582 \r\nL 207.252206 146.899219 \r\nL 208.445789 181.903764 \r\nL 209.639372 196.317401 \r\nL 210.832955 173.667401 \r\nL 212.026537 179.844673 \r\nL 213.22012 188.081037 \r\nL 214.413703 186.021946 \r\nL 215.607286 169.549219 \r\nL 216.800869 171.60831 \r\nL 217.994452 144.840128 \r\nL 219.188035 159.253764 \r\nL 220.381618 118.071946 \r\nL 221.575201 120.131037 \r\nL 222.768783 113.953764 \r\nL 223.962366 138.662855 \r\nL 225.155949 171.60831 \r\nL 226.349532 95.421946 \r\nL 227.543115 134.544673 \r\nL 228.736698 81.00831 \r\nL 229.930281 128.367401 \r\nL 231.123864 146.899219 \r\nL 232.317447 134.544673 \r\nL 233.511029 144.840128 \r\nL 234.704612 78.949219 \r\nL 235.898195 111.894673 \r\nL 237.091778 140.721946 \r\nL 238.285361 181.903764 \r\nL 239.478944 148.95831 \r\nL 240.672527 159.253764 \r\nL 241.86611 138.662855 \r\nL 243.059693 177.785582 \r\nL 244.253275 190.140128 \r\nL 245.446858 192.199219 \r\nL 246.640441 200.435582 \r\nL 247.834024 200.435582 \r\nL 249.027607 202.494673 \r\nL 250.22119 198.376491 \r\nL 251.414773 210.731037 \r\nL 252.608356 202.494673 \r\nL 253.801939 206.612855 \r\nL 254.995521 206.612855 \r\nL 256.189104 177.785582 \r\nL 257.382687 202.494673 \r\nL 258.57627 171.60831 \r\nL 259.769853 194.25831 \r\nL 260.963436 206.612855 \r\nL 262.157019 181.903764 \r\nL 263.350602 200.435582 \r\nL 264.544184 196.317401 \r\nL 265.737767 206.612855 \r\nL 266.93135 196.317401 \r\nL 268.124933 204.553764 \r\nL 269.318516 210.731037 \r\nL 270.512099 210.731037 \r\nL 271.705682 198.376491 \r\nL 272.899265 190.140128 \r\nL 274.092848 212.790128 \r\nL 275.28643 206.612855 \r\nL 276.480013 198.376491 \r\nL 277.673596 196.317401 \r\nL 278.867179 206.612855 \r\nL 280.060762 194.25831 \r\nL 281.254345 206.612855 \r\nL 282.447928 192.199219 \r\nL 284.835094 208.671946 \r\nL 286.028676 190.140128 \r\nL 287.222259 206.612855 \r\nL 288.415842 194.25831 \r\nL 289.609425 200.435582 \r\nL 290.803008 188.081037 \r\nL 291.996591 196.317401 \r\nL 293.190174 186.021946 \r\nL 294.383757 200.435582 \r\nL 295.57734 204.553764 \r\nL 297.964505 204.553764 \r\nL 299.158088 210.731037 \r\nL 300.351671 208.671946 \r\nL 301.545254 204.553764 \r\nL 302.738837 206.612855 \r\nL 303.93242 210.731037 \r\nL 305.126003 216.90831 \r\nL 306.319586 210.731037 \r\nL 307.513168 196.317401 \r\nL 308.706751 202.494673 \r\nL 309.900334 214.849219 \r\nL 311.093917 188.081037 \r\nL 312.2875 212.790128 \r\nL 313.481083 192.199219 \r\nL 314.674666 214.849219 \r\nL 315.868249 200.435582 \r\nL 317.061832 212.790128 \r\nL 318.255414 200.435582 \r\nL 319.448997 198.376491 \r\nL 320.64258 202.494673 \r\nL 321.836163 214.849219 \r\nL 323.029746 212.790128 \r\nL 324.223329 216.90831 \r\nL 325.416912 212.790128 \r\nL 326.610495 216.90831 \r\nL 327.804078 210.731037 \r\nL 328.99766 216.90831 \r\nL 330.191243 210.731037 \r\nL 331.384826 214.849219 \r\nL 332.578409 216.90831 \r\nL 333.771992 212.790128 \r\nL 334.965575 214.849219 \r\nL 337.352741 210.731037 \r\nL 338.546324 216.90831 \r\nL 339.739906 212.790128 \r\nL 340.933489 216.90831 \r\nL 342.127072 212.790128 \r\nL 343.320655 212.790128 \r\nL 344.514238 214.849219 \r\nL 345.707821 214.849219 \r\nL 346.901404 212.790128 \r\nL 348.094987 214.849219 \r\nL 349.28857 204.553764 \r\nL 351.675735 192.199219 \r\nL 352.869318 188.081037 \r\nL 352.869318 188.081037 \r\n\" style=\"fill:none;stroke:#ff7f0e;stroke-linecap:square;stroke-width:1.5;\"/>\r\n   </g>\r\n   <g id=\"line2d_15\">\r\n    <path clip-path=\"url(#p181d9f721c)\" d=\"M 48.505682 216.90831 \r\nL 114.152741 216.90831 \r\nL 115.346324 212.790128 \r\nL 116.539906 210.731037 \r\nL 117.733489 198.376491 \r\nL 118.927072 206.612855 \r\nL 120.120655 208.671946 \r\nL 121.314238 206.612855 \r\nL 122.507821 208.671946 \r\nL 123.701404 196.317401 \r\nL 124.894987 196.317401 \r\nL 126.08857 212.790128 \r\nL 127.282152 204.553764 \r\nL 128.475735 202.494673 \r\nL 129.669318 204.553764 \r\nL 130.862901 126.30831 \r\nL 132.056484 196.317401 \r\nL 133.250067 190.140128 \r\nL 134.44365 190.140128 \r\nL 135.637233 210.731037 \r\nL 136.830816 214.849219 \r\nL 138.024398 206.612855 \r\nL 139.217981 210.731037 \r\nL 141.605147 214.849219 \r\nL 142.79873 214.849219 \r\nL 143.992313 216.90831 \r\nL 149.960227 216.90831 \r\nL 151.15381 214.849219 \r\nL 152.347393 216.90831 \r\nL 153.540976 212.790128 \r\nL 154.734559 210.731037 \r\nL 155.928142 202.494673 \r\nL 157.121725 202.494673 \r\nL 158.315307 214.849219 \r\nL 160.702473 194.25831 \r\nL 161.896056 188.081037 \r\nL 163.089639 179.844673 \r\nL 164.283222 186.021946 \r\nL 165.476805 138.662855 \r\nL 166.670388 148.95831 \r\nL 167.863971 134.544673 \r\nL 169.057553 132.485582 \r\nL 170.251136 136.603764 \r\nL 171.444719 134.544673 \r\nL 172.638302 128.367401 \r\nL 173.831885 132.485582 \r\nL 175.025468 163.371946 \r\nL 176.219051 142.781037 \r\nL 177.412634 113.953764 \r\nL 178.606217 140.721946 \r\nL 179.799799 120.131037 \r\nL 180.993382 138.662855 \r\nL 182.186965 140.721946 \r\nL 183.380548 146.899219 \r\nL 184.574131 142.781037 \r\nL 185.767714 146.899219 \r\nL 186.961297 165.431037 \r\nL 188.15488 163.371946 \r\nL 189.348463 165.431037 \r\nL 190.542045 196.317401 \r\nL 191.735628 200.435582 \r\nL 194.122794 179.844673 \r\nL 195.316377 165.431037 \r\nL 196.50996 181.903764 \r\nL 197.703543 171.60831 \r\nL 198.897126 192.199219 \r\nL 200.090709 161.312855 \r\nL 201.284291 148.95831 \r\nL 202.477874 19.235582 \r\nL 203.671457 173.667401 \r\nL 204.86504 183.962855 \r\nL 206.058623 177.785582 \r\nL 207.252206 153.076491 \r\nL 208.445789 183.962855 \r\nL 209.639372 186.021946 \r\nL 210.832955 173.667401 \r\nL 212.026537 171.60831 \r\nL 213.22012 188.081037 \r\nL 214.413703 177.785582 \r\nL 215.607286 171.60831 \r\nL 216.800869 169.549219 \r\nL 219.188035 118.071946 \r\nL 220.381618 132.485582 \r\nL 221.575201 144.840128 \r\nL 222.768783 118.071946 \r\nL 223.962366 144.840128 \r\nL 225.155949 165.431037 \r\nL 226.349532 81.00831 \r\nL 227.543115 138.662855 \r\nL 228.736698 72.771946 \r\nL 229.930281 148.95831 \r\nL 231.123864 140.721946 \r\nL 232.317447 128.367401 \r\nL 233.511029 153.076491 \r\nL 234.704612 89.244673 \r\nL 235.898195 109.835582 \r\nL 237.091778 132.485582 \r\nL 238.285361 169.549219 \r\nL 239.478944 165.431037 \r\nL 240.672527 163.371946 \r\nL 241.86611 132.485582 \r\nL 243.059693 171.60831 \r\nL 244.253275 190.140128 \r\nL 245.446858 194.25831 \r\nL 246.640441 194.25831 \r\nL 247.834024 196.317401 \r\nL 249.027607 208.671946 \r\nL 250.22119 206.612855 \r\nL 251.414773 212.790128 \r\nL 252.608356 202.494673 \r\nL 253.801939 198.376491 \r\nL 254.995521 196.317401 \r\nL 256.189104 179.844673 \r\nL 257.382687 173.667401 \r\nL 258.57627 198.376491 \r\nL 259.769853 196.317401 \r\nL 260.963436 200.435582 \r\nL 262.157019 194.25831 \r\nL 263.350602 196.317401 \r\nL 265.737767 208.671946 \r\nL 266.93135 208.671946 \r\nL 268.124933 200.435582 \r\nL 269.318516 210.731037 \r\nL 270.512099 204.553764 \r\nL 271.705682 183.962855 \r\nL 272.899265 206.612855 \r\nL 274.092848 210.731037 \r\nL 275.28643 192.199219 \r\nL 276.480013 208.671946 \r\nL 277.673596 190.140128 \r\nL 278.867179 206.612855 \r\nL 280.060762 204.553764 \r\nL 281.254345 190.140128 \r\nL 282.447928 200.435582 \r\nL 283.641511 194.25831 \r\nL 284.835094 210.731037 \r\nL 286.028676 200.435582 \r\nL 287.222259 198.376491 \r\nL 288.415842 202.494673 \r\nL 289.609425 192.199219 \r\nL 290.803008 192.199219 \r\nL 291.996591 188.081037 \r\nL 293.190174 196.317401 \r\nL 294.383757 202.494673 \r\nL 295.57734 210.731037 \r\nL 296.770922 200.435582 \r\nL 297.964505 202.494673 \r\nL 299.158088 202.494673 \r\nL 300.351671 208.671946 \r\nL 301.545254 208.671946 \r\nL 302.738837 210.731037 \r\nL 303.93242 216.90831 \r\nL 305.126003 206.612855 \r\nL 306.319586 208.671946 \r\nL 307.513168 198.376491 \r\nL 308.706751 210.731037 \r\nL 309.900334 214.849219 \r\nL 311.093917 192.199219 \r\nL 312.2875 212.790128 \r\nL 313.481083 192.199219 \r\nL 314.674666 204.553764 \r\nL 315.868249 200.435582 \r\nL 317.061832 210.731037 \r\nL 318.255414 208.671946 \r\nL 319.448997 212.790128 \r\nL 320.64258 208.671946 \r\nL 321.836163 202.494673 \r\nL 323.029746 210.731037 \r\nL 324.223329 214.849219 \r\nL 325.416912 210.731037 \r\nL 326.610495 216.90831 \r\nL 327.804078 212.790128 \r\nL 328.99766 214.849219 \r\nL 330.191243 214.849219 \r\nL 331.384826 210.731037 \r\nL 332.578409 214.849219 \r\nL 333.771992 210.731037 \r\nL 334.965575 216.90831 \r\nL 336.159158 212.790128 \r\nL 337.352741 212.790128 \r\nL 338.546324 216.90831 \r\nL 340.933489 216.90831 \r\nL 342.127072 210.731037 \r\nL 343.320655 210.731037 \r\nL 345.707821 214.849219 \r\nL 346.901404 214.849219 \r\nL 348.094987 212.790128 \r\nL 349.28857 200.435582 \r\nL 350.482152 200.435582 \r\nL 351.675735 196.317401 \r\nL 352.869318 190.140128 \r\nL 352.869318 190.140128 \r\n\" style=\"fill:none;stroke:#2ca02c;stroke-linecap:square;stroke-width:1.5;\"/>\r\n   </g>\r\n   <g id=\"patch_3\">\r\n    <path d=\"M 33.2875 226.791946 \r\nL 33.2875 9.351946 \r\n\" style=\"fill:none;stroke:#000000;stroke-linecap:square;stroke-linejoin:miter;stroke-width:0.8;\"/>\r\n   </g>\r\n   <g id=\"patch_4\">\r\n    <path d=\"M 368.0875 226.791946 \r\nL 368.0875 9.351946 \r\n\" style=\"fill:none;stroke:#000000;stroke-linecap:square;stroke-linejoin:miter;stroke-width:0.8;\"/>\r\n   </g>\r\n   <g id=\"patch_5\">\r\n    <path d=\"M 33.2875 226.791946 \r\nL 368.0875 226.791946 \r\n\" style=\"fill:none;stroke:#000000;stroke-linecap:square;stroke-linejoin:miter;stroke-width:0.8;\"/>\r\n   </g>\r\n   <g id=\"patch_6\">\r\n    <path d=\"M 33.2875 9.351946 \r\nL 368.0875 9.351946 \r\n\" style=\"fill:none;stroke:#000000;stroke-linecap:square;stroke-linejoin:miter;stroke-width:0.8;\"/>\r\n   </g>\r\n  </g>\r\n </g>\r\n <defs>\r\n  <clipPath id=\"p181d9f721c\">\r\n   <rect height=\"217.44\" width=\"334.8\" x=\"33.2875\" y=\"9.351946\"/>\r\n  </clipPath>\r\n </defs>\r\n</svg>\r\n",
      "image/png": "[encoded data removed]"
     },
     "metadata": {
      "needs_background": "light"
     }
    }
   ],
   "metadata": {}
  },
  {
   "cell_type": "code",
   "execution_count": 19,
   "source": [
    "R = minRes[2]\r\n",
    "marked = copy.deepcopy(frame)\r\n",
    "cv.circle(marked, minRes[1], 2, (100, 0, 255), thickness=3)\r\n",
    "cv.rectangle(marked, (minRes[1][0] - R, minRes[1][1] - R), (minRes[1][0] + R, minRes[1][1] + R), (0, 0, 255), 1)\r\n",
    "# cv.imshow('mhaarpupil', mHaarPupil)\r\n",
    "# cv.imshow('gray', gray)\r\n",
    "cv.imshow('img', marked)\r\n",
    "while(1):\r\n",
    "    if cv.waitKey(1) == 27:\r\n",
    "        break\r\n",
    "cv.destroyAllWindows()\r\n",
    "del marked"
   ],
   "outputs": [],
   "metadata": {}
  },
  {
   "cell_type": "code",
   "execution_count": null,
   "source": [
    "imgPad.shape, frame.shape"
   ],
   "outputs": [
    {
     "output_type": "execute_result",
     "data": {
      "text/plain": [
       "((447, 682), (407, 642, 3))"
      ]
     },
     "metadata": {},
     "execution_count": 15
    }
   ],
   "metadata": {}
  },
  {
   "cell_type": "code",
   "execution_count": 23,
   "source": [
    "roiHaarPupil, minRes"
   ],
   "outputs": [
    {
     "output_type": "execute_result",
     "data": {
      "text/plain": [
       "((6, 608, 202, 804), [-43.737997919143936, (706, 104), 58])"
      ]
     },
     "metadata": {},
     "execution_count": 23
    }
   ],
   "metadata": {}
  },
  {
   "cell_type": "code",
   "execution_count": null,
   "source": [
    "roitest = copy.deepcopy(frame)\r\n",
    "roitest = cv.copyMakeBorder(roitest, 0, roitest.shape[0], 0, roitest.shape[1], cv.BORDER_REPLICATE)\r\n",
    "# roitest = roitest[0:roitest.shape[0]-150, 0:roitest.shape[1], 0]\r\n",
    "cv.imshow('roitest', roitest)\r\n",
    "while(1):\r\n",
    "    if cv.waitKey(1) == 27:\r\n",
    "        break\r\n",
    "cv.destroyAllWindows()\r\n",
    "del roitest"
   ],
   "outputs": [],
   "metadata": {}
  },
  {
   "cell_type": "code",
   "execution_count": null,
   "source": [],
   "outputs": [],
   "metadata": {}
  }
 ],
 "metadata": {
  "orig_nbformat": 4,
  "language_info": {
   "name": "python",
   "version": "3.9.4",
   "mimetype": "text/x-python",
   "codemirror_mode": {
    "name": "ipython",
    "version": 3
   },
   "pygments_lexer": "ipython3",
   "nbconvert_exporter": "python",
   "file_extension": ".py"
  },
  "kernelspec": {
   "name": "python3",
   "display_name": "Python 3.9.4 64-bit ('venv3': venv)"
  },
  "interpreter": {
   "hash": "18de05d892473188dc0cee8ec55b40718ed1a742a43e4430257b4a08939c937c"
  }
 },
 "nbformat": 4,
 "nbformat_minor": 2
}