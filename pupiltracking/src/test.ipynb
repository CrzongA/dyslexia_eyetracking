{
 "cells": [
  {
   "cell_type": "code",
   "execution_count": 2,
   "source": [
    "# imports\r\n",
    "import matplotlib.pyplot as plt\r\n",
    "import numpy as np\r\n",
    "import cv2 as cv\r\n",
    "from numpy.core.arrayprint import repr_format\r\n",
    "import functools, copy"
   ],
   "outputs": [],
   "metadata": {}
  },
  {
   "cell_type": "code",
   "execution_count": 3,
   "source": [
    "# constants\r\n",
    "SQRT_2 = np.sqrt(2)"
   ],
   "outputs": [],
   "metadata": {}
  },
  {
   "cell_type": "code",
   "execution_count": 4,
   "source": [
    "def resizeInput(src, rf):\r\n",
    "    resized = cv.resize(src, None, fx=rf, fy=rf, interpolation=cv.INTER_CUBIC)\r\n",
    "    return resized"
   ],
   "outputs": [],
   "metadata": {}
  },
  {
   "cell_type": "code",
   "execution_count": 5,
   "source": [
    "# roi: y0 x0 y1 x1\r\n",
    "def getROI(src, roi, dst=None):\r\n",
    "    x0 = 0\r\n",
    "    y0 = 0\r\n",
    "    y1 = src.shape[0]\r\n",
    "    x1 = src.shape[1]\r\n",
    "    top = 0\r\n",
    "    bottom = 0\r\n",
    "    left = 0\r\n",
    "    right = 0\r\n",
    "    if roi[0] < 0 or roi[1] < 0 or roi[2] > src.shape[0] or roi[3] > src.shape[1]:\r\n",
    "        dst = copy.deepcopy(src)\r\n",
    "        if roi[0] < 0:\r\n",
    "            top = -roi[0]\r\n",
    "        if roi[1] < 0:\r\n",
    "            left = -roi[1]\r\n",
    "        if roi[2] > src.shape[0]:\r\n",
    "            bottom = roi[2] - src.shape[0]\r\n",
    "        if roi[3] > src.shape[1]:\r\n",
    "            right = roi[3] - src.shape[1]\r\n",
    "        dst = cv.copyMakeBorder(dst, top, bottom, left, right, cv.BORDER_REPLICATE)\r\n",
    "    else: dst = src[y0:y1, x0:x1, :]\r\n",
    "    return dst"
   ],
   "outputs": [],
   "metadata": {}
  },
  {
   "cell_type": "code",
   "execution_count": 6,
   "source": [
    "SQRT_2 = np.sqrt(2)\r\n",
    "\r\n",
    "class HaarFeature:\r\n",
    "    def __init__(self, r1, r2) -> None:\r\n",
    "        self.r_inner = r1\r\n",
    "        self.r_outer = r2\r\n",
    "\r\n",
    "        count_inner = self.r_inner ** 2\r\n",
    "        count_outer = self.r_outer ** 2 - self.r_inner ** 2\r\n",
    "        self.val_inner = 1.0 / (self.r_inner ** 2)\r\n",
    "        self.val_outer = -self.val_inner * count_inner / count_outer\r\n"
   ],
   "outputs": [],
   "metadata": {}
  },
  {
   "cell_type": "code",
   "execution_count": 8,
   "source": [
    "def findPupilEllipse(img: np.ndarray, pupilParams, out):\r\n",
    "    padding = 2 * pupilParams.r_max\r\n",
    "    gray = cv.cvtColor(img, cv.COLOR_BGR2GRAY)\r\n",
    "    # expand img to allow haar kernel to scan all edges without out-of-bound cases.\r\n",
    "    imgPad = cv.copyMakeBorder(gray, padding, padding, padding, padding, cv.BORDER_REPLICATE)\r\n",
    "    integral = cv.integral(imgPad)\r\n",
    "\r\n",
    "    haarRadius = 0\r\n",
    "    rstep = 2\r\n",
    "    ystep = 4\r\n",
    "    xstep = 4\r\n",
    "\r\n",
    "    minResponse = np.Infinity\r\n",
    "    minValPoint = []\r\n",
    "    minValIn = [minResponse, minValPoint, 0]\r\n",
    "    minValOut = copy.deepcopy(minValIn)\r\n",
    "    pHaarPupil = ()\r\n",
    "\r\n",
    "    # for each iteration of ellipse with radius r,\r\n",
    "    # calculate the sums of inner and outer areas of the haar feature\r\n",
    "    for r in range(pupilParams.r_min, pupilParams.r_max, rstep):\r\n",
    "        r_inner = r\r\n",
    "        r_outer = 3*r\r\n",
    "        hf = HaarFeature(r_inner, r_outer)\r\n",
    "\r\n",
    "        # **unoptimized**\r\n",
    "        for y in range(r, (img.shape[0]- r - 1), ystep):\r\n",
    "            # original illustration of haar kernel and corresponding points, too good not to copy.\r\n",
    "            # row1_outer.|         |  p00._____________________.p01\r\n",
    "            #            |         |     |         Haar kernel |\r\n",
    "            #            |         |     |                     |\r\n",
    "            # row1_inner.|         |     |   p00._______.p01   |\r\n",
    "            #            |-padding-|     |      |       |      |\r\n",
    "            #            |         |     |      | (x,y) |      |\r\n",
    "            # row2_inner.|         |     |      |_______|      |\r\n",
    "            #            |         |     |   p10'       'p11   |\r\n",
    "            #            |         |     |                     |\r\n",
    "            # row2_outer.|         |     |_____________________|\r\n",
    "            #            |         |  p10'                     'p11\r\n",
    "\r\n",
    "            upper_inner = integral[y + padding - r_inner]\r\n",
    "            lower_inner = integral[y + padding + r_inner + 1]\r\n",
    "            upper_outer = integral[y + padding - r_outer]\r\n",
    "            lower_outer = integral[y + padding + r_outer + 1]\r\n",
    "\r\n",
    "            p00_inner = upper_inner[r + padding - r_inner]\r\n",
    "            p01_inner = upper_inner[r + padding + r_inner + 1]\r\n",
    "            p10_inner = lower_inner[r + padding - r_inner]\r\n",
    "            p11_inner = lower_inner[r + padding + r_inner + 1]\r\n",
    "\r\n",
    "            p00_outer = upper_outer[r + padding - r_outer]\r\n",
    "            p01_outer = upper_outer[r + padding + r_outer + 1]\r\n",
    "            p10_outer = lower_outer[r + padding - r_outer]\r\n",
    "            p11_outer = lower_outer[r + padding + r_outer + 1]\r\n",
    "            \r\n",
    "            for x in range(r, img.shape[1] - r -1, xstep):\r\n",
    "                # debug scan area by marking\r\n",
    "                # cv.circle(img, (x, y), 1, (255, 0, 0), thickness=1)\r\n",
    "                sumInner = p00_inner + p11_inner - p01_inner - p10_inner\r\n",
    "                sumOuter = p00_outer + p11_outer - p01_outer - p10_outer - sumInner\r\n",
    "\r\n",
    "                response = hf.val_inner * sumInner + hf.val_outer * sumOuter\r\n",
    "\r\n",
    "                if (response < minResponse):\r\n",
    "                    minValOut[0] = response\r\n",
    "                    minValOut[1] = (x, y)\r\n",
    "                \r\n",
    "                p00_inner += xstep\r\n",
    "                p01_inner += xstep\r\n",
    "                p10_inner += xstep\r\n",
    "                p11_inner += xstep\r\n",
    "\r\n",
    "                p00_outer += xstep\r\n",
    "                p01_outer += xstep\r\n",
    "                p10_outer += xstep\r\n",
    "                p11_outer += xstep\r\n",
    "                \r\n",
    "        if (minValOut[0] < minResponse):\r\n",
    "            minResponse = minValOut[0]\r\n",
    "            pHaarPupil = minValOut[1]\r\n",
    "            minValOut[2] = haarRadius = r\r\n",
    "            print(minResponse)\r\n",
    "        \r\n",
    "        del hf\r\n",
    "    \r\n",
    "    haarRadius = (int)(haarRadius * SQRT_2)\r\n",
    "\r\n",
    "    roiHaarPupil = (pHaarPupil[1]-r, pHaarPupil[0]-r, pHaarPupil[1]+r, pHaarPupil[0]+r) # y0 x0 y1 x1\r\n",
    "    mHaarPupil = getROI(img, roiHaarPupil)\r\n",
    "\r\n",
    "    # calculate histogram of pupil\r\n",
    "    hist = cv.calcHist(mHaarPupil, [1], None, [256], (0, 256), accumulate=False)\r\n",
    "\r\n",
    "    return (roiHaarPupil, mHaarPupil, hist, minValOut)"
   ],
   "outputs": [],
   "metadata": {}
  },
  {
   "cell_type": "code",
   "execution_count": 11,
   "source": [
    "# capture one frame for sample\r\n",
    "# cap = cv.VideoCapture(0)\r\n",
    "cap = cv.VideoCapture('F:\\LEONLAH\\myprojects\\dyslexia-eyetracking\\docs\\e1.jpg')\r\n",
    "# cap = cv.VideoCapture('C:\\\\LEONLAH\\\\myprojects\\\\dyslexia_eyetracking\\\\docs\\\\eyesample-2.jpg')\r\n",
    "_, frame = cap.read()\r\n",
    "cap.release()\r\n",
    "frame = resizeInput(frame, 0.5)\r\n",
    "# frame = frame[0:frame.shape[0], 0:(int)(frame.shape[1]*0.8), :]"
   ],
   "outputs": [],
   "metadata": {}
  },
  {
   "cell_type": "code",
   "execution_count": 12,
   "source": [
    "class pupilParams:\r\n",
    "    def __init__(self):\r\n",
    "        self.r_min = 7\r\n",
    "        self.r_max = 30\r\n",
    "    \r\n",
    "    def setparam(self, min, max):\r\n",
    "        self.r_max = max\r\n",
    "        self.r_min = min\r\n",
    "\r\n",
    "pp = pupilParams()\r\n",
    "roiHaarPupil, mHaarPupil, hist, minRes = findPupilEllipse(frame, pp, None)"
   ],
   "outputs": [
    {
     "output_type": "stream",
     "name": "stdout",
     "text": [
      "131.8571428571429\n",
      "109.60956790123464\n",
      "89.23037190082641\n",
      "69.29142011834324\n",
      "51.77777777777783\n",
      "38.29065743944636\n",
      "33.05193905817168\n",
      "32.50708616780048\n",
      "28.981805293005664\n",
      "22.23259999999999\n",
      "14.455075445816192\n",
      "6.612812128418511\n"
     ]
    }
   ],
   "metadata": {}
  },
  {
   "cell_type": "code",
   "execution_count": 22,
   "source": [
    "padding = 2 * 10\r\n",
    "gray = cv.cvtColor(frame, cv.COLOR_BGR2GRAY)\r\n",
    "# expand img to allow haar kernel to scan all edges without out-of-bound cases.\r\n",
    "imgPad = cv.copyMakeBorder(gray, padding, padding, padding, padding, cv.BORDER_REPLICATE)\r\n",
    "integral = cv.integral(imgPad)"
   ],
   "outputs": [],
   "metadata": {}
  },
  {
   "cell_type": "code",
   "execution_count": 15,
   "source": [
    "histSize = [256]\r\n",
    "histRange = (0, 256)\r\n",
    "# b_hist = cv.calcHist(mHaarPupil, [0], None, histSize, histRange, accumulate=False)\r\n",
    "# g_hist = cv.calcHist(mHaarPupil, [1], None, histSize, histRange, accumulate=False)\r\n",
    "# r_hist = cv.calcHist(mHaarPupil, [2], None, histSize, histRange, accumulate=False)\r\n",
    "# p1, ax1 = plt.subplots()\r\n",
    "# # p2, ax2 = plt.subplots()\r\n",
    "# ax1.plot(b_hist)\r\n",
    "# ax1.plot(g_hist)\r\n",
    "# ax1.plot(r_hist)\r\n",
    "h = plt.plot(hist)"
   ],
   "outputs": [
    {
     "output_type": "display_data",
     "data": {
      "image/png": "[encoded data removed]",
      "text/plain": [
       "<Figure size 432x288 with 1 Axes>"
      ]
     },
     "metadata": {
      "needs_background": "light"
     }
    }
   ],
   "metadata": {}
  },
  {
   "cell_type": "code",
   "execution_count": 16,
   "source": [
    "R = minRes[2]\r\n",
    "marked = copy.deepcopy(frame)\r\n",
    "cv.circle(marked, minRes[1], 2, (100, 0, 255), thickness=3)\r\n",
    "cv.rectangle(marked, (minRes[1][0] - R, minRes[1][1] - R), (minRes[1][0] + R, minRes[1][1] + R), (0, 0, 255), 1)\r\n",
    "# cv.imshow('mhaarpupil', mHaarPupil)\r\n",
    "# cv.imshow('gray', gray)\r\n",
    "cv.imshow('img', marked)\r\n",
    "while(1):\r\n",
    "    if cv.waitKey(1) == 27:\r\n",
    "        break\r\n",
    "cv.destroyAllWindows()\r\n",
    "del marked"
   ],
   "outputs": [],
   "metadata": {}
  },
  {
   "cell_type": "code",
   "execution_count": 22,
   "source": [
    "imgPad.shape, frame.shape"
   ],
   "outputs": [
    {
     "output_type": "execute_result",
     "data": {
      "text/plain": [
       "((244, 296), (204, 256, 3))"
      ]
     },
     "metadata": {},
     "execution_count": 22
    }
   ],
   "metadata": {}
  },
  {
   "cell_type": "code",
   "execution_count": 67,
   "source": [
    "roiHaarPupil, minRes"
   ],
   "outputs": [
    {
     "output_type": "execute_result",
     "data": {
      "text/plain": [
       "((398, 560, 474, 636), [-109.6970221606648, (598, 436), 38])"
      ]
     },
     "metadata": {},
     "execution_count": 67
    }
   ],
   "metadata": {}
  },
  {
   "cell_type": "code",
   "execution_count": 70,
   "source": [
    "roitest = copy.deepcopy(frame)\r\n",
    "roitest = cv.copyMakeBorder(roitest, 0, roitest.shape[0], 0, roitest.shape[1], cv.BORDER_REPLICATE)\r\n",
    "# roitest = roitest[0:roitest.shape[0]-150, 0:roitest.shape[1], 0]\r\n",
    "cv.imshow('roitest', roitest)\r\n",
    "while(1):\r\n",
    "    if cv.waitKey(1) == 27:\r\n",
    "        break\r\n",
    "cv.destroyAllWindows()\r\n",
    "del roitest"
   ],
   "outputs": [],
   "metadata": {}
  },
  {
   "cell_type": "code",
   "execution_count": null,
   "source": [],
   "outputs": [],
   "metadata": {}
  }
 ],
 "metadata": {
  "orig_nbformat": 4,
  "language_info": {
   "name": "python",
   "version": "3.9.5",
   "mimetype": "text/x-python",
   "codemirror_mode": {
    "name": "ipython",
    "version": 3
   },
   "pygments_lexer": "ipython3",
   "nbconvert_exporter": "python",
   "file_extension": ".py"
  },
  "kernelspec": {
   "name": "python3",
   "display_name": "Python 3.9.5 64-bit ('venv39': venv)"
  },
  "interpreter": {
   "hash": "e8b6524c450c5d98d11f2aae87784ccfdea9afab3c2d30f212cb34ae5e00c58b"
  }
 },
 "nbformat": 4,
 "nbformat_minor": 2
}