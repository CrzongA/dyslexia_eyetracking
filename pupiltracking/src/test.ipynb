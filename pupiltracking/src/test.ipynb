{
 "cells": [
  {
   "cell_type": "code",
   "execution_count": 2,
   "source": [
    "# imports\r\n",
    "import matplotlib.pyplot as plt\r\n",
    "import numpy as np\r\n",
    "import cv2 as cv\r\n",
    "from numpy.core.arrayprint import repr_format\r\n",
    "import functools, copy"
   ],
   "outputs": [],
   "metadata": {}
  },
  {
   "cell_type": "code",
   "execution_count": 3,
   "source": [
    "# constants\r\n",
    "SQRT_2 = np.sqrt(2)"
   ],
   "outputs": [],
   "metadata": {}
  },
  {
   "cell_type": "code",
   "execution_count": 47,
   "source": [
    "import numpy as np\r\n",
    "import cv2 as cv\r\n",
    "from numpy.core.arrayprint import repr_format\r\n",
    "import functools, copy\r\n",
    "\r\n",
    "SQRT_2 = np.sqrt(2)\r\n",
    "\r\n",
    "class HaarFeature:\r\n",
    "    def __init__(self, r1, r2) -> None:\r\n",
    "        self.r_inner = r1\r\n",
    "        self.r_outer = r2\r\n",
    "\r\n",
    "        count_inner = self.r_inner ** 2\r\n",
    "        count_outer = self.r_outer ** 2 - self.r_inner ** 2\r\n",
    "        self.val_inner = 1.0 / (self.r_inner / self.r_outer)\r\n",
    "        self.val_outer = -self.val_inner * count_inner / count_outer\r\n",
    "\r\n",
    "# roi: y0 x0 y1 x1\r\n",
    "def getROI(src, roi, dst=None):\r\n",
    "    x0 = 0\r\n",
    "    y0 = 0\r\n",
    "    y1 = src.shape[0]\r\n",
    "    x1 = src.shape[1]\r\n",
    "    top = 0\r\n",
    "    bottom = 0\r\n",
    "    left = 0\r\n",
    "    right = 0\r\n",
    "    if roi[0] < 0 or roi[1] < 0 or roi[2] > src.shape[0] or roi[3] > src.shape[1]:\r\n",
    "        dst = copy.deepcopy(src)\r\n",
    "        if roi[0] < 0:\r\n",
    "            top = -roi[0]\r\n",
    "        if roi[1] < 0:\r\n",
    "            left = -roi[1]\r\n",
    "        if roi[2] > src.shape[0]:\r\n",
    "            bottom = roi[2] - src.shape[0]\r\n",
    "        if roi[3] > src.shape[1]:\r\n",
    "            right = roi[3] - src.shape[1]\r\n",
    "        dst = cv.copyMakeBorder(dst, top, bottom, left, right, cv.BORDER_REPLICATE)\r\n",
    "    else: dst = src[y0:y1, x0:x1, :]\r\n",
    "    return dst\r\n",
    "        \r\n",
    "\r\n",
    "def findPupilEllipse(img: np.ndarray, pupilParams, out):\r\n",
    "    padding = 2 * pupilParams.r_max\r\n",
    "    gray = cv.cvtColor(img, cv.COLOR_BGR2GRAY)\r\n",
    "    # expand img to allow haar kernel to scan all edges without out-of-bound cases.\r\n",
    "    imgPad = cv.copyMakeBorder(gray, padding, padding, padding, padding, cv.BORDER_REPLICATE)\r\n",
    "    integral = cv.integral(imgPad)\r\n",
    "\r\n",
    "    haarRadius = 0\r\n",
    "    rstep = 2\r\n",
    "    ystep = 4\r\n",
    "    xstep = 4\r\n",
    "\r\n",
    "    minResponse = np.Infinity\r\n",
    "    minValPoint = []\r\n",
    "    minValIn = [minResponse, minValPoint]\r\n",
    "    minValOut = copy.deepcopy(minValIn)\r\n",
    "    pHaarPupil = ()\r\n",
    "\r\n",
    "    # for each iteration of ellipse with radius r,\r\n",
    "    # calculate the sums of inner and outer areas of the haar feature\r\n",
    "    for r in range(pupilParams.r_min, pupilParams.r_max, rstep):\r\n",
    "        r_inner = r\r\n",
    "        r_outer = 3*r\r\n",
    "        hf = HaarFeature(r_inner, r_outer)\r\n",
    "\r\n",
    "        # **unoptimized**\r\n",
    "        istep = ((img.shape[0] - r - r - 1)//ystep + 1) // 8\r\n",
    "        for y in range(0, (img.shape[0] - r - r -1)//ystep + 1, ystep):\r\n",
    "            # original illustration of haar kernel and corresponding points, too good not to copy.\r\n",
    "            # row1_outer.|         |  p00._____________________.p01\r\n",
    "            #            |         |     |         Haar kernel |\r\n",
    "            #            |         |     |                     |\r\n",
    "            # row1_inner.|         |     |   p00._______.p01   |\r\n",
    "            #            |-padding-|     |      |       |      |\r\n",
    "            #            |         |     |      | (x,y) |      |\r\n",
    "            # row2_inner.|         |     |      |_______|      |\r\n",
    "            #            |         |     |   p10'       'p11   |\r\n",
    "            #            |         |     |                     |\r\n",
    "            # row2_outer.|         |     |_____________________|\r\n",
    "            #            |         |  p10'                     'p11\r\n",
    "\r\n",
    "            upper_inner = integral[y + padding - r_inner]\r\n",
    "            lower_inner = integral[y + padding + r_inner + 1]\r\n",
    "            upper_outer = integral[y + padding - r_outer]\r\n",
    "            lower_outer = integral[y + padding + r_outer + 1]\r\n",
    "\r\n",
    "            p00_inner = upper_inner[r + padding - r_inner]\r\n",
    "            p01_inner = upper_inner[r + padding + r_inner + 1]\r\n",
    "            p10_inner = lower_inner[r + padding - r_inner]\r\n",
    "            p11_inner = lower_inner[r + padding + r_inner + 1]\r\n",
    "\r\n",
    "            p00_outer = upper_outer[r + padding - r_outer]\r\n",
    "            p01_outer = upper_outer[r + padding + r_outer + 1]\r\n",
    "            p10_outer = lower_outer[r + padding - r_outer]\r\n",
    "            p11_outer = lower_outer[r + padding + r_outer + 1]\r\n",
    "            \r\n",
    "            for x in range(r, img.shape[1] - r, xstep):\r\n",
    "                sumInner = p00_inner + p11_inner - p01_inner - p10_inner\r\n",
    "                sumOuter = p00_outer + p11_outer - p01_outer - p10_outer - sumInner\r\n",
    "\r\n",
    "                response = hf.val_inner * sumInner + hf.val_outer * sumOuter\r\n",
    "\r\n",
    "                if (response < minResponse):\r\n",
    "                    minValOut[0] = response\r\n",
    "                    minValOut[1] = (x, y)\r\n",
    "                \r\n",
    "                p00_inner += xstep\r\n",
    "                p01_inner += xstep\r\n",
    "                p10_inner += xstep\r\n",
    "                p11_inner += xstep\r\n",
    "\r\n",
    "                p00_outer += xstep\r\n",
    "                p01_outer += xstep\r\n",
    "                p10_outer += xstep\r\n",
    "                p11_outer += xstep\r\n",
    "        if (minValOut[0] < minResponse):\r\n",
    "            minResponse = minValOut[0]\r\n",
    "            pHaarPupil = minValOut[1]\r\n",
    "            haarRadius = r\r\n",
    "            print(minResponse)\r\n",
    "    \r\n",
    "    haarRadius = (int)(haarRadius * SQRT_2)\r\n",
    "\r\n",
    "    roiHaarPupil = (pHaarPupil[1]-r, pHaarPupil[0]-r, pHaarPupil[1]+r, pHaarPupil[0]+r) # y0 x0 y1 x1\r\n",
    "    mHaarPupil = getROI(img, roiHaarPupil)\r\n",
    "\r\n",
    "    # calculate histogram of pupil\r\n",
    "    hist = cv.calcHist(mHaarPupil, [1], None, [256], (0, 256))\r\n",
    "\r\n",
    "    return (roiHaarPupil, mHaarPupil, hist, minValOut)\r\n"
   ],
   "outputs": [],
   "metadata": {}
  },
  {
   "cell_type": "code",
   "execution_count": 7,
   "source": [
    "# capture one frame for sample\r\n",
    "# cap = cv.VideoCapture('F:\\\\LEONLAH\\\\myprojects\\\\dyslexia_eyetracking\\\\docs\\\\eyesmaple-d.jpg')\r\n",
    "cap = cv.VideoCapture('C:\\\\LEONLAH\\\\myprojects\\\\dyslexia_eyetracking\\\\docs\\\\eyesample-d.jpg')\r\n",
    "_, frame = cap.read()\r\n",
    "cap.release()"
   ],
   "outputs": [],
   "metadata": {}
  },
  {
   "cell_type": "code",
   "execution_count": 49,
   "source": [
    "class pupilParams:\r\n",
    "    def __init__(self):\r\n",
    "        self.r_min = 100\r\n",
    "        self.r_max = 200\r\n",
    "    \r\n",
    "    def setparam(self, min, max):\r\n",
    "        self.r_max = max\r\n",
    "        self.r_min = min\r\n",
    "\r\n",
    "pp = pupilParams()\r\n",
    "roiHaarPupil, mHaarPupil, hist, minRes = findPupilEllipse(frame, pp, None)"
   ],
   "outputs": [
    {
     "output_type": "stream",
     "name": "stdout",
     "text": [
      "-2693539.5\n",
      "-2778110.25\n",
      "-2867004.375\n",
      "-2969618.25\n",
      "-3091179.75\n",
      "-3220705.875\n",
      "-3352737.75\n",
      "-3483757.875\n",
      "-3625848.0\n",
      "-3761506.875\n",
      "-3901284.75\n",
      "-4056926.625\n",
      "-4243191.0\n",
      "-4432654.125\n",
      "-4642543.125\n",
      "-4869941.625\n",
      "-5101222.125\n",
      "-5331072.0\n",
      "-5566700.625\n",
      "-5792255.25\n",
      "-6049425.75\n",
      "-6296905.5\n"
     ]
    }
   ],
   "metadata": {}
  },
  {
   "cell_type": "code",
   "execution_count": 45,
   "source": [
    "padding = 2 * 10\r\n",
    "gray = cv.cvtColor(frame, cv.COLOR_BGR2GRAY)\r\n",
    "# expand img to allow haar kernel to scan all edges without out-of-bound cases.\r\n",
    "imgPad = cv.copyMakeBorder(gray, padding, padding, padding, padding, cv.BORDER_REPLICATE)\r\n",
    "integral = cv.integral(imgPad)"
   ],
   "outputs": [],
   "metadata": {}
  },
  {
   "cell_type": "code",
   "execution_count": 23,
   "source": [
    "plt.plot(hist)"
   ],
   "outputs": [
    {
     "output_type": "execute_result",
     "data": {
      "text/plain": [
       "[<matplotlib.lines.Line2D at 0x26e11a31790>]"
      ]
     },
     "metadata": {},
     "execution_count": 23
    },
    {
     "output_type": "display_data",
     "data": {
      "text/plain": [
       "<Figure size 432x288 with 1 Axes>"
      ],
      "image/svg+xml": "<?xml version=\"1.0\" encoding=\"utf-8\" standalone=\"no\"?>\r\n<!DOCTYPE svg PUBLIC \"-//W3C//DTD SVG 1.1//EN\"\r\n  \"http://www.w3.org/Graphics/SVG/1.1/DTD/svg11.dtd\">\r\n<svg height=\"248.518125pt\" version=\"1.1\" viewBox=\"0 0 368.925 248.518125\" width=\"368.925pt\" xmlns=\"http://www.w3.org/2000/svg\" xmlns:xlink=\"http://www.w3.org/1999/xlink\">\r\n <metadata>\r\n  <rdf:RDF xmlns:cc=\"http://creativecommons.org/ns#\" xmlns:dc=\"http://purl.org/dc/elements/1.1/\" xmlns:rdf=\"http://www.w3.org/1999/02/22-rdf-syntax-ns#\">\r\n   <cc:Work>\r\n    <dc:type rdf:resource=\"http://purl.org/dc/dcmitype/StillImage\"/>\r\n    <dc:date>2021-08-31T13:57:28.970138</dc:date>\r\n    <dc:format>image/svg+xml</dc:format>\r\n    <dc:creator>\r\n     <cc:Agent>\r\n      <dc:title>Matplotlib v3.4.3, https://matplotlib.org/</dc:title>\r\n     </cc:Agent>\r\n    </dc:creator>\r\n   </cc:Work>\r\n  </rdf:RDF>\r\n </metadata>\r\n <defs>\r\n  <style type=\"text/css\">*{stroke-linecap:butt;stroke-linejoin:round;}</style>\r\n </defs>\r\n <g id=\"figure_1\">\r\n  <g id=\"patch_1\">\r\n   <path d=\"M -0 248.518125 \r\nL 368.925 248.518125 \r\nL 368.925 0 \r\nL -0 0 \r\nz\r\n\" style=\"fill:none;\"/>\r\n  </g>\r\n  <g id=\"axes_1\">\r\n   <g id=\"patch_2\">\r\n    <path d=\"M 26.925 224.64 \r\nL 361.725 224.64 \r\nL 361.725 7.2 \r\nL 26.925 7.2 \r\nz\r\n\" style=\"fill:#ffffff;\"/>\r\n   </g>\r\n   <g id=\"matplotlib.axis_1\">\r\n    <g id=\"xtick_1\">\r\n     <g id=\"line2d_1\">\r\n      <defs>\r\n       <path d=\"M 0 0 \r\nL 0 3.5 \r\n\" id=\"m32a324cbed\" style=\"stroke:#000000;stroke-width:0.8;\"/>\r\n      </defs>\r\n      <g>\r\n       <use style=\"stroke:#000000;stroke-width:0.8;\" x=\"42.143182\" xlink:href=\"#m32a324cbed\" y=\"224.64\"/>\r\n      </g>\r\n     </g>\r\n     <g id=\"text_1\">\r\n      <!-- 0 -->\r\n      <g transform=\"translate(38.961932 239.238437)scale(0.1 -0.1)\">\r\n       <defs>\r\n        <path d=\"M 2034 4250 \r\nQ 1547 4250 1301 3770 \r\nQ 1056 3291 1056 2328 \r\nQ 1056 1369 1301 889 \r\nQ 1547 409 2034 409 \r\nQ 2525 409 2770 889 \r\nQ 3016 1369 3016 2328 \r\nQ 3016 3291 2770 3770 \r\nQ 2525 4250 2034 4250 \r\nz\r\nM 2034 4750 \r\nQ 2819 4750 3233 4129 \r\nQ 3647 3509 3647 2328 \r\nQ 3647 1150 3233 529 \r\nQ 2819 -91 2034 -91 \r\nQ 1250 -91 836 529 \r\nQ 422 1150 422 2328 \r\nQ 422 3509 836 4129 \r\nQ 1250 4750 2034 4750 \r\nz\r\n\" id=\"DejaVuSans-30\" transform=\"scale(0.015625)\"/>\r\n       </defs>\r\n       <use xlink:href=\"#DejaVuSans-30\"/>\r\n      </g>\r\n     </g>\r\n    </g>\r\n    <g id=\"xtick_2\">\r\n     <g id=\"line2d_2\">\r\n      <g>\r\n       <use style=\"stroke:#000000;stroke-width:0.8;\" x=\"101.822326\" xlink:href=\"#m32a324cbed\" y=\"224.64\"/>\r\n      </g>\r\n     </g>\r\n     <g id=\"text_2\">\r\n      <!-- 50 -->\r\n      <g transform=\"translate(95.459826 239.238437)scale(0.1 -0.1)\">\r\n       <defs>\r\n        <path d=\"M 691 4666 \r\nL 3169 4666 \r\nL 3169 4134 \r\nL 1269 4134 \r\nL 1269 2991 \r\nQ 1406 3038 1543 3061 \r\nQ 1681 3084 1819 3084 \r\nQ 2600 3084 3056 2656 \r\nQ 3513 2228 3513 1497 \r\nQ 3513 744 3044 326 \r\nQ 2575 -91 1722 -91 \r\nQ 1428 -91 1123 -41 \r\nQ 819 9 494 109 \r\nL 494 744 \r\nQ 775 591 1075 516 \r\nQ 1375 441 1709 441 \r\nQ 2250 441 2565 725 \r\nQ 2881 1009 2881 1497 \r\nQ 2881 1984 2565 2268 \r\nQ 2250 2553 1709 2553 \r\nQ 1456 2553 1204 2497 \r\nQ 953 2441 691 2322 \r\nL 691 4666 \r\nz\r\n\" id=\"DejaVuSans-35\" transform=\"scale(0.015625)\"/>\r\n       </defs>\r\n       <use xlink:href=\"#DejaVuSans-35\"/>\r\n       <use x=\"63.623047\" xlink:href=\"#DejaVuSans-30\"/>\r\n      </g>\r\n     </g>\r\n    </g>\r\n    <g id=\"xtick_3\">\r\n     <g id=\"line2d_3\">\r\n      <g>\r\n       <use style=\"stroke:#000000;stroke-width:0.8;\" x=\"161.501471\" xlink:href=\"#m32a324cbed\" y=\"224.64\"/>\r\n      </g>\r\n     </g>\r\n     <g id=\"text_3\">\r\n      <!-- 100 -->\r\n      <g transform=\"translate(151.957721 239.238437)scale(0.1 -0.1)\">\r\n       <defs>\r\n        <path d=\"M 794 531 \r\nL 1825 531 \r\nL 1825 4091 \r\nL 703 3866 \r\nL 703 4441 \r\nL 1819 4666 \r\nL 2450 4666 \r\nL 2450 531 \r\nL 3481 531 \r\nL 3481 0 \r\nL 794 0 \r\nL 794 531 \r\nz\r\n\" id=\"DejaVuSans-31\" transform=\"scale(0.015625)\"/>\r\n       </defs>\r\n       <use xlink:href=\"#DejaVuSans-31\"/>\r\n       <use x=\"63.623047\" xlink:href=\"#DejaVuSans-30\"/>\r\n       <use x=\"127.246094\" xlink:href=\"#DejaVuSans-30\"/>\r\n      </g>\r\n     </g>\r\n    </g>\r\n    <g id=\"xtick_4\">\r\n     <g id=\"line2d_4\">\r\n      <g>\r\n       <use style=\"stroke:#000000;stroke-width:0.8;\" x=\"221.180615\" xlink:href=\"#m32a324cbed\" y=\"224.64\"/>\r\n      </g>\r\n     </g>\r\n     <g id=\"text_4\">\r\n      <!-- 150 -->\r\n      <g transform=\"translate(211.636865 239.238437)scale(0.1 -0.1)\">\r\n       <use xlink:href=\"#DejaVuSans-31\"/>\r\n       <use x=\"63.623047\" xlink:href=\"#DejaVuSans-35\"/>\r\n       <use x=\"127.246094\" xlink:href=\"#DejaVuSans-30\"/>\r\n      </g>\r\n     </g>\r\n    </g>\r\n    <g id=\"xtick_5\">\r\n     <g id=\"line2d_5\">\r\n      <g>\r\n       <use style=\"stroke:#000000;stroke-width:0.8;\" x=\"280.859759\" xlink:href=\"#m32a324cbed\" y=\"224.64\"/>\r\n      </g>\r\n     </g>\r\n     <g id=\"text_5\">\r\n      <!-- 200 -->\r\n      <g transform=\"translate(271.316009 239.238437)scale(0.1 -0.1)\">\r\n       <defs>\r\n        <path d=\"M 1228 531 \r\nL 3431 531 \r\nL 3431 0 \r\nL 469 0 \r\nL 469 531 \r\nQ 828 903 1448 1529 \r\nQ 2069 2156 2228 2338 \r\nQ 2531 2678 2651 2914 \r\nQ 2772 3150 2772 3378 \r\nQ 2772 3750 2511 3984 \r\nQ 2250 4219 1831 4219 \r\nQ 1534 4219 1204 4116 \r\nQ 875 4013 500 3803 \r\nL 500 4441 \r\nQ 881 4594 1212 4672 \r\nQ 1544 4750 1819 4750 \r\nQ 2544 4750 2975 4387 \r\nQ 3406 4025 3406 3419 \r\nQ 3406 3131 3298 2873 \r\nQ 3191 2616 2906 2266 \r\nQ 2828 2175 2409 1742 \r\nQ 1991 1309 1228 531 \r\nz\r\n\" id=\"DejaVuSans-32\" transform=\"scale(0.015625)\"/>\r\n       </defs>\r\n       <use xlink:href=\"#DejaVuSans-32\"/>\r\n       <use x=\"63.623047\" xlink:href=\"#DejaVuSans-30\"/>\r\n       <use x=\"127.246094\" xlink:href=\"#DejaVuSans-30\"/>\r\n      </g>\r\n     </g>\r\n    </g>\r\n    <g id=\"xtick_6\">\r\n     <g id=\"line2d_6\">\r\n      <g>\r\n       <use style=\"stroke:#000000;stroke-width:0.8;\" x=\"340.538904\" xlink:href=\"#m32a324cbed\" y=\"224.64\"/>\r\n      </g>\r\n     </g>\r\n     <g id=\"text_6\">\r\n      <!-- 250 -->\r\n      <g transform=\"translate(330.995154 239.238437)scale(0.1 -0.1)\">\r\n       <use xlink:href=\"#DejaVuSans-32\"/>\r\n       <use x=\"63.623047\" xlink:href=\"#DejaVuSans-35\"/>\r\n       <use x=\"127.246094\" xlink:href=\"#DejaVuSans-30\"/>\r\n      </g>\r\n     </g>\r\n    </g>\r\n   </g>\r\n   <g id=\"matplotlib.axis_2\">\r\n    <g id=\"ytick_1\">\r\n     <g id=\"line2d_7\">\r\n      <defs>\r\n       <path d=\"M 0 0 \r\nL -3.5 0 \r\n\" id=\"m4fd1429a63\" style=\"stroke:#000000;stroke-width:0.8;\"/>\r\n      </defs>\r\n      <g>\r\n       <use style=\"stroke:#000000;stroke-width:0.8;\" x=\"26.925\" xlink:href=\"#m4fd1429a63\" y=\"214.756364\"/>\r\n      </g>\r\n     </g>\r\n     <g id=\"text_7\">\r\n      <!-- 0 -->\r\n      <g transform=\"translate(13.5625 218.555582)scale(0.1 -0.1)\">\r\n       <use xlink:href=\"#DejaVuSans-30\"/>\r\n      </g>\r\n     </g>\r\n    </g>\r\n    <g id=\"ytick_2\">\r\n     <g id=\"line2d_8\">\r\n      <g>\r\n       <use style=\"stroke:#000000;stroke-width:0.8;\" x=\"26.925\" xlink:href=\"#m4fd1429a63\" y=\"175.221818\"/>\r\n      </g>\r\n     </g>\r\n     <g id=\"text_8\">\r\n      <!-- 10 -->\r\n      <g transform=\"translate(7.2 179.021037)scale(0.1 -0.1)\">\r\n       <use xlink:href=\"#DejaVuSans-31\"/>\r\n       <use x=\"63.623047\" xlink:href=\"#DejaVuSans-30\"/>\r\n      </g>\r\n     </g>\r\n    </g>\r\n    <g id=\"ytick_3\">\r\n     <g id=\"line2d_9\">\r\n      <g>\r\n       <use style=\"stroke:#000000;stroke-width:0.8;\" x=\"26.925\" xlink:href=\"#m4fd1429a63\" y=\"135.687273\"/>\r\n      </g>\r\n     </g>\r\n     <g id=\"text_9\">\r\n      <!-- 20 -->\r\n      <g transform=\"translate(7.2 139.486491)scale(0.1 -0.1)\">\r\n       <use xlink:href=\"#DejaVuSans-32\"/>\r\n       <use x=\"63.623047\" xlink:href=\"#DejaVuSans-30\"/>\r\n      </g>\r\n     </g>\r\n    </g>\r\n    <g id=\"ytick_4\">\r\n     <g id=\"line2d_10\">\r\n      <g>\r\n       <use style=\"stroke:#000000;stroke-width:0.8;\" x=\"26.925\" xlink:href=\"#m4fd1429a63\" y=\"96.152727\"/>\r\n      </g>\r\n     </g>\r\n     <g id=\"text_10\">\r\n      <!-- 30 -->\r\n      <g transform=\"translate(7.2 99.951946)scale(0.1 -0.1)\">\r\n       <defs>\r\n        <path d=\"M 2597 2516 \r\nQ 3050 2419 3304 2112 \r\nQ 3559 1806 3559 1356 \r\nQ 3559 666 3084 287 \r\nQ 2609 -91 1734 -91 \r\nQ 1441 -91 1130 -33 \r\nQ 819 25 488 141 \r\nL 488 750 \r\nQ 750 597 1062 519 \r\nQ 1375 441 1716 441 \r\nQ 2309 441 2620 675 \r\nQ 2931 909 2931 1356 \r\nQ 2931 1769 2642 2001 \r\nQ 2353 2234 1838 2234 \r\nL 1294 2234 \r\nL 1294 2753 \r\nL 1863 2753 \r\nQ 2328 2753 2575 2939 \r\nQ 2822 3125 2822 3475 \r\nQ 2822 3834 2567 4026 \r\nQ 2313 4219 1838 4219 \r\nQ 1578 4219 1281 4162 \r\nQ 984 4106 628 3988 \r\nL 628 4550 \r\nQ 988 4650 1302 4700 \r\nQ 1616 4750 1894 4750 \r\nQ 2613 4750 3031 4423 \r\nQ 3450 4097 3450 3541 \r\nQ 3450 3153 3228 2886 \r\nQ 3006 2619 2597 2516 \r\nz\r\n\" id=\"DejaVuSans-33\" transform=\"scale(0.015625)\"/>\r\n       </defs>\r\n       <use xlink:href=\"#DejaVuSans-33\"/>\r\n       <use x=\"63.623047\" xlink:href=\"#DejaVuSans-30\"/>\r\n      </g>\r\n     </g>\r\n    </g>\r\n    <g id=\"ytick_5\">\r\n     <g id=\"line2d_11\">\r\n      <g>\r\n       <use style=\"stroke:#000000;stroke-width:0.8;\" x=\"26.925\" xlink:href=\"#m4fd1429a63\" y=\"56.618182\"/>\r\n      </g>\r\n     </g>\r\n     <g id=\"text_11\">\r\n      <!-- 40 -->\r\n      <g transform=\"translate(7.2 60.417401)scale(0.1 -0.1)\">\r\n       <defs>\r\n        <path d=\"M 2419 4116 \r\nL 825 1625 \r\nL 2419 1625 \r\nL 2419 4116 \r\nz\r\nM 2253 4666 \r\nL 3047 4666 \r\nL 3047 1625 \r\nL 3713 1625 \r\nL 3713 1100 \r\nL 3047 1100 \r\nL 3047 0 \r\nL 2419 0 \r\nL 2419 1100 \r\nL 313 1100 \r\nL 313 1709 \r\nL 2253 4666 \r\nz\r\n\" id=\"DejaVuSans-34\" transform=\"scale(0.015625)\"/>\r\n       </defs>\r\n       <use xlink:href=\"#DejaVuSans-34\"/>\r\n       <use x=\"63.623047\" xlink:href=\"#DejaVuSans-30\"/>\r\n      </g>\r\n     </g>\r\n    </g>\r\n    <g id=\"ytick_6\">\r\n     <g id=\"line2d_12\">\r\n      <g>\r\n       <use style=\"stroke:#000000;stroke-width:0.8;\" x=\"26.925\" xlink:href=\"#m4fd1429a63\" y=\"17.083636\"/>\r\n      </g>\r\n     </g>\r\n     <g id=\"text_12\">\r\n      <!-- 50 -->\r\n      <g transform=\"translate(7.2 20.882855)scale(0.1 -0.1)\">\r\n       <use xlink:href=\"#DejaVuSans-35\"/>\r\n       <use x=\"63.623047\" xlink:href=\"#DejaVuSans-30\"/>\r\n      </g>\r\n     </g>\r\n    </g>\r\n   </g>\r\n   <g id=\"line2d_13\">\r\n    <path clip-path=\"url(#p07430462a0)\" d=\"M 42.143182 214.756364 \r\nL 50.498262 214.756364 \r\nL 51.691845 206.849455 \r\nL 52.885428 183.128727 \r\nL 55.272594 183.128727 \r\nL 56.466176 131.733818 \r\nL 57.659759 171.268364 \r\nL 58.853342 143.594182 \r\nL 60.046925 151.501091 \r\nL 61.240508 175.221818 \r\nL 62.434091 115.92 \r\nL 63.627674 163.361455 \r\nL 66.01484 194.989091 \r\nL 67.208422 187.082182 \r\nL 68.402005 198.942545 \r\nL 69.595588 194.989091 \r\nL 70.789171 194.989091 \r\nL 71.982754 191.035636 \r\nL 73.176337 191.035636 \r\nL 74.36992 183.128727 \r\nL 75.563503 187.082182 \r\nL 77.950668 187.082182 \r\nL 79.144251 175.221818 \r\nL 80.337834 194.989091 \r\nL 81.531417 167.314909 \r\nL 82.725 198.942545 \r\nL 83.918583 187.082182 \r\nL 85.112166 194.989091 \r\nL 86.305749 194.989091 \r\nL 87.499332 179.175273 \r\nL 88.692914 183.128727 \r\nL 89.886497 155.454545 \r\nL 91.08008 139.640727 \r\nL 92.273663 119.873455 \r\nL 93.467246 139.640727 \r\nL 94.660829 135.687273 \r\nL 95.854412 155.454545 \r\nL 97.047995 159.408 \r\nL 98.241578 131.733818 \r\nL 99.43516 131.733818 \r\nL 100.628743 179.175273 \r\nL 101.822326 139.640727 \r\nL 103.015909 139.640727 \r\nL 104.209492 111.966545 \r\nL 105.403075 48.711273 \r\nL 106.596658 119.873455 \r\nL 107.790241 135.687273 \r\nL 108.983824 131.733818 \r\nL 110.177406 104.059636 \r\nL 111.370989 127.780364 \r\nL 112.564572 147.547636 \r\nL 113.758155 131.733818 \r\nL 114.951738 159.408 \r\nL 116.145321 159.408 \r\nL 117.338904 155.454545 \r\nL 118.532487 167.314909 \r\nL 119.72607 159.408 \r\nL 120.919652 147.547636 \r\nL 122.113235 179.175273 \r\nL 123.306818 155.454545 \r\nL 124.500401 187.082182 \r\nL 125.693984 187.082182 \r\nL 126.887567 171.268364 \r\nL 128.08115 151.501091 \r\nL 129.274733 139.640727 \r\nL 130.468316 167.314909 \r\nL 131.661898 139.640727 \r\nL 132.855481 159.408 \r\nL 134.049064 155.454545 \r\nL 135.242647 135.687273 \r\nL 136.43623 151.501091 \r\nL 137.629813 147.547636 \r\nL 138.823396 183.128727 \r\nL 140.016979 183.128727 \r\nL 141.210561 159.408 \r\nL 143.597727 159.408 \r\nL 144.79131 135.687273 \r\nL 145.984893 115.92 \r\nL 147.178476 104.059636 \r\nL 148.372059 139.640727 \r\nL 149.565642 108.013091 \r\nL 150.759225 104.059636 \r\nL 151.952807 119.873455 \r\nL 153.14639 143.594182 \r\nL 154.339973 115.92 \r\nL 155.533556 127.780364 \r\nL 156.727139 115.92 \r\nL 157.920722 32.897455 \r\nL 159.114305 17.083636 \r\nL 160.307888 108.013091 \r\nL 161.501471 72.432 \r\nL 162.695053 155.454545 \r\nL 165.082219 179.175273 \r\nL 166.275802 151.501091 \r\nL 167.469385 167.314909 \r\nL 168.662968 155.454545 \r\nL 169.856551 163.361455 \r\nL 171.050134 155.454545 \r\nL 172.243717 179.175273 \r\nL 173.437299 194.989091 \r\nL 174.630882 179.175273 \r\nL 175.824465 151.501091 \r\nL 178.211631 167.314909 \r\nL 179.405214 167.314909 \r\nL 180.598797 198.942545 \r\nL 181.79238 187.082182 \r\nL 182.985963 194.989091 \r\nL 184.179545 210.802909 \r\nL 185.373128 202.896 \r\nL 186.566711 187.082182 \r\nL 187.760294 187.082182 \r\nL 188.953877 179.175273 \r\nL 192.534626 167.314909 \r\nL 193.728209 179.175273 \r\nL 194.921791 187.082182 \r\nL 196.115374 206.849455 \r\nL 197.308957 191.035636 \r\nL 198.50254 202.896 \r\nL 200.889706 210.802909 \r\nL 202.083289 210.802909 \r\nL 203.276872 214.756364 \r\nL 204.470455 202.896 \r\nL 205.664037 198.942545 \r\nL 206.85762 210.802909 \r\nL 208.051203 198.942545 \r\nL 209.244786 210.802909 \r\nL 210.438369 214.756364 \r\nL 211.631952 206.849455 \r\nL 214.019118 206.849455 \r\nL 215.212701 214.756364 \r\nL 216.406283 214.756364 \r\nL 218.793449 198.942545 \r\nL 219.987032 206.849455 \r\nL 221.180615 210.802909 \r\nL 222.374198 206.849455 \r\nL 223.567781 214.756364 \r\nL 224.761364 202.896 \r\nL 225.954947 210.802909 \r\nL 227.148529 202.896 \r\nL 228.342112 187.082182 \r\nL 229.535695 202.896 \r\nL 230.729278 202.896 \r\nL 231.922861 167.314909 \r\nL 233.116444 191.035636 \r\nL 234.310027 187.082182 \r\nL 235.50361 191.035636 \r\nL 236.697193 206.849455 \r\nL 237.890775 194.989091 \r\nL 239.084358 210.802909 \r\nL 240.277941 214.756364 \r\nL 241.471524 206.849455 \r\nL 242.665107 206.849455 \r\nL 243.85869 210.802909 \r\nL 245.052273 210.802909 \r\nL 246.245856 214.756364 \r\nL 247.439439 210.802909 \r\nL 248.633021 214.756364 \r\nL 249.826604 214.756364 \r\nL 252.21377 206.849455 \r\nL 253.407353 198.942545 \r\nL 255.794519 206.849455 \r\nL 256.988102 187.082182 \r\nL 258.181684 187.082182 \r\nL 259.375267 202.896 \r\nL 260.56885 202.896 \r\nL 261.762433 198.942545 \r\nL 262.956016 198.942545 \r\nL 264.149599 194.989091 \r\nL 265.343182 194.989091 \r\nL 266.536765 214.756364 \r\nL 267.730348 202.896 \r\nL 270.117513 210.802909 \r\nL 271.311096 198.942545 \r\nL 272.504679 210.802909 \r\nL 273.698262 214.756364 \r\nL 346.506818 214.756364 \r\nL 346.506818 214.756364 \r\n\" style=\"fill:none;stroke:#1f77b4;stroke-linecap:square;stroke-width:1.5;\"/>\r\n   </g>\r\n   <g id=\"patch_3\">\r\n    <path d=\"M 26.925 224.64 \r\nL 26.925 7.2 \r\n\" style=\"fill:none;stroke:#000000;stroke-linecap:square;stroke-linejoin:miter;stroke-width:0.8;\"/>\r\n   </g>\r\n   <g id=\"patch_4\">\r\n    <path d=\"M 361.725 224.64 \r\nL 361.725 7.2 \r\n\" style=\"fill:none;stroke:#000000;stroke-linecap:square;stroke-linejoin:miter;stroke-width:0.8;\"/>\r\n   </g>\r\n   <g id=\"patch_5\">\r\n    <path d=\"M 26.925 224.64 \r\nL 361.725 224.64 \r\n\" style=\"fill:none;stroke:#000000;stroke-linecap:square;stroke-linejoin:miter;stroke-width:0.8;\"/>\r\n   </g>\r\n   <g id=\"patch_6\">\r\n    <path d=\"M 26.925 7.2 \r\nL 361.725 7.2 \r\n\" style=\"fill:none;stroke:#000000;stroke-linecap:square;stroke-linejoin:miter;stroke-width:0.8;\"/>\r\n   </g>\r\n  </g>\r\n </g>\r\n <defs>\r\n  <clipPath id=\"p07430462a0\">\r\n   <rect height=\"217.44\" width=\"334.8\" x=\"26.925\" y=\"7.2\"/>\r\n  </clipPath>\r\n </defs>\r\n</svg>\r\n",
      "image/png": "[encoded data removed]"
     },
     "metadata": {
      "needs_background": "light"
     }
    }
   ],
   "metadata": {}
  },
  {
   "cell_type": "code",
   "execution_count": 50,
   "source": [
    "marked = copy.deepcopy(frame)\r\n",
    "cv.circle(marked, minRes[1], 2, (100, 0, 255), thickness=3)\r\n",
    "# cv.imshow('mhaarpupil', mHaarPupil)\r\n",
    "cv.imshow('img', marked)\r\n",
    "while(1):\r\n",
    "    if cv.waitKey(1) == 27:\r\n",
    "        break\r\n",
    "cv.destroyAllWindows()\r\n",
    "del marked"
   ],
   "outputs": [],
   "metadata": {}
  },
  {
   "cell_type": "code",
   "execution_count": 15,
   "source": [
    "imgPad.shape, frame.shape"
   ],
   "outputs": [
    {
     "output_type": "execute_result",
     "data": {
      "text/plain": [
       "((447, 682), (407, 642, 3))"
      ]
     },
     "metadata": {},
     "execution_count": 15
    }
   ],
   "metadata": {}
  },
  {
   "cell_type": "code",
   "execution_count": null,
   "source": [
    "roiHaarPupil, minRes"
   ],
   "outputs": [
    {
     "output_type": "execute_result",
     "data": {
      "text/plain": [
       "((624, 379, 642, 397), [97685.625, (633, 388)])"
      ]
     },
     "metadata": {},
     "execution_count": 46
    }
   ],
   "metadata": {}
  },
  {
   "cell_type": "code",
   "execution_count": 31,
   "source": [
    "roitest = copy.deepcopy(frame)\r\n",
    "roitest = cv.copyMakeBorder(roitest, 0, roitest.shape[0], 0, roitest.shape[1], cv.BORDER_REPLICATE)\r\n",
    "# roitest = roitest[0:roitest.shape[0]-150, 0:roitest.shape[1], 0]\r\n",
    "cv.imshow('roitest', roitest)\r\n",
    "while(1):\r\n",
    "    if cv.waitKey(1) == 27:\r\n",
    "        break\r\n",
    "cv.destroyAllWindows()\r\n",
    "del roitest"
   ],
   "outputs": [],
   "metadata": {}
  },
  {
   "cell_type": "code",
   "execution_count": null,
   "source": [],
   "outputs": [],
   "metadata": {}
  }
 ],
 "metadata": {
  "orig_nbformat": 4,
  "language_info": {
   "name": "python",
   "version": "3.9.4",
   "mimetype": "text/x-python",
   "codemirror_mode": {
    "name": "ipython",
    "version": 3
   },
   "pygments_lexer": "ipython3",
   "nbconvert_exporter": "python",
   "file_extension": ".py"
  },
  "kernelspec": {
   "name": "python3",
   "display_name": "Python 3.9.4 64-bit ('venv3': venv)"
  },
  "interpreter": {
   "hash": "18de05d892473188dc0cee8ec55b40718ed1a742a43e4430257b4a08939c937c"
  }
 },
 "nbformat": 4,
 "nbformat_minor": 2
}