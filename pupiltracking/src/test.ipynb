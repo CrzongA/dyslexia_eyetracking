{
 "cells": [
  {
   "cell_type": "code",
   "execution_count": 47,
   "source": [
    "# imports\r\n",
    "import matplotlib.pyplot as plt\r\n",
    "import numpy as np\r\n",
    "import cv2 as cv\r\n",
    "from numpy.core.arrayprint import repr_format\r\n",
    "import functools, copy"
   ],
   "outputs": [],
   "metadata": {}
  },
  {
   "cell_type": "code",
   "execution_count": 48,
   "source": [
    "# constants\r\n",
    "SQRT_2 = np.sqrt(2)"
   ],
   "outputs": [],
   "metadata": {}
  },
  {
   "cell_type": "code",
   "execution_count": 67,
   "source": [
    "import numpy as np\r\n",
    "import cv2 as cv\r\n",
    "from numpy.core.arrayprint import repr_format\r\n",
    "import functools, copy\r\n",
    "\r\n",
    "SQRT_2 = np.sqrt(2)\r\n",
    "\r\n",
    "class HaarFeature:\r\n",
    "    def __init__(self, r1, r2, padding) -> None:\r\n",
    "        self.r_inner = r1\r\n",
    "        self.r_outer = r2\r\n",
    "        self.padding = padding\r\n",
    "\r\n",
    "        count_inner = self.r_inner ** 2\r\n",
    "        count_outer = self.r_outer ** 2 - self.r_inner ** 2\r\n",
    "        self.val_inner = 1.0 / (self.r_inner / self.r_outer)\r\n",
    "        self.val_outer = -self.val_inner * count_inner / count_outer\r\n",
    "\r\n",
    "# roi: y0 x0 y1 x1\r\n",
    "def getROI(src, roi, dst=None):\r\n",
    "    x0 = 0\r\n",
    "    y0 = 0\r\n",
    "    y1 = src.shape[0]\r\n",
    "    x1 = src.shape[1]\r\n",
    "    top = 0\r\n",
    "    bottom = 0\r\n",
    "    left = 0\r\n",
    "    right = 0\r\n",
    "    if roi[0] < 0 or roi[1] < 0 or roi[2] > src.shape[0] or roi[3] > src.shape[1]:\r\n",
    "        dst = copy.deepcopy(src)\r\n",
    "        if roi[0] < 0:\r\n",
    "            top = -roi[0]\r\n",
    "        if roi[1] < 0:\r\n",
    "            left = -roi[1]\r\n",
    "        if roi[2] > src.shape[0]:\r\n",
    "            bottom = roi[2] - src.shape[0]\r\n",
    "        if roi[3] > src.shape[1]:\r\n",
    "            right = roi[3] - src.shape[1]\r\n",
    "        dst = cv.copyMakeBorder(dst, top, bottom, left, right, cv.BORDER_REPLICATE)\r\n",
    "    else: dst = src[y0:y1, x0:x1, :]\r\n",
    "    return dst\r\n",
    "        \r\n",
    "\r\n",
    "def findPupilEllipse(img: np.ndarray, pupilParams, out):\r\n",
    "    padding = 2 * pupilParams.r_max\r\n",
    "    gray = cv.cvtColor(img, cv.COLOR_BGR2GRAY)\r\n",
    "    # expand img to allow haar kernel to scan all edges without out-of-bound cases.\r\n",
    "    imgPad = cv.copyMakeBorder(gray, padding, padding, padding, padding, cv.BORDER_REPLICATE)\r\n",
    "    integral = cv.integral(imgPad)\r\n",
    "\r\n",
    "    haarRadius = 0\r\n",
    "    rstep = 2\r\n",
    "    ystep = 4\r\n",
    "    xstep = 4\r\n",
    "\r\n",
    "    minResponse = np.Infinity\r\n",
    "    minValPoint = []\r\n",
    "    minValIn = [minResponse, minValPoint]\r\n",
    "    minValOut = copy.deepcopy(minValIn)\r\n",
    "    pHaarPupil = ()\r\n",
    "\r\n",
    "    # for each iteration of ellipse with radius r,\r\n",
    "    # calculate the sums of inner and outer areas of the haar feature\r\n",
    "    for r in range(pupilParams.r_min, pupilParams.r_max, rstep):\r\n",
    "        r_inner = r\r\n",
    "        r_outer = 3*r\r\n",
    "        hf = HaarFeature(r_inner, r_outer, padding)\r\n",
    "\r\n",
    "        # **unoptimized**\r\n",
    "        istep = ((img.shape[0] - r - r - 1)//ystep + 1) // 8\r\n",
    "        for i in range(0, (img.shape[0] - r - r -1)//ystep + 1, istep):\r\n",
    "            print((img.shape[0] - r - r -1)//ystep + 1)\r\n",
    "            for yi in range(0, istep):\r\n",
    "                y = r + i*ystep + ystep*yi\r\n",
    "                # original illustration of haar kernel and corresponding points, too good not to copy.\r\n",
    "                # row1_outer.|         |  p00._____________________.p01\r\n",
    "                #            |         |     |         Haar kernel |\r\n",
    "                #            |         |     |                     |\r\n",
    "                # row1_inner.|         |     |   p00._______.p01   |\r\n",
    "                #            |-padding-|     |      |       |      |\r\n",
    "                #            |         |     |      | (x,y) |      |\r\n",
    "                # row2_inner.|         |     |      |_______|      |\r\n",
    "                #            |         |     |   p10'       'p11   |\r\n",
    "                #            |         |     |                     |\r\n",
    "                # row2_outer.|         |     |_____________________|\r\n",
    "                #            |         |  p10'                     'p11\r\n",
    "\r\n",
    "                upper_inner = integral[y + padding - r_inner]\r\n",
    "                lower_inner = integral[y + padding + r_inner + 1]\r\n",
    "                upper_outer = integral[y + padding - r_outer]\r\n",
    "                lower_outer = integral[y + padding + r_outer + 1]\r\n",
    "\r\n",
    "                p00_inner = upper_inner[r + padding - r_inner]\r\n",
    "                p01_inner = upper_inner[r + padding + r_inner + 1]\r\n",
    "                p10_inner = lower_inner[r + padding - r_inner]\r\n",
    "                p11_inner = lower_inner[r + padding + r_inner + 1]\r\n",
    "\r\n",
    "                p00_outer = upper_outer[r + padding - r_outer]\r\n",
    "                p01_outer = upper_outer[r + padding + r_outer + 1]\r\n",
    "                p10_outer = lower_outer[r + padding - r_outer]\r\n",
    "                p11_outer = lower_outer[r + padding + r_outer + 1]\r\n",
    "                \r\n",
    "                for x in range(r, img.shape[1] - r, xstep):\r\n",
    "                    sumInner = p00_inner + p11_inner - p01_inner - p10_inner\r\n",
    "                    sumOuter = p00_outer + p11_outer - p01_outer - p10_outer - sumInner\r\n",
    "\r\n",
    "                    response = hf.val_inner * sumInner + hf.val_outer * sumOuter\r\n",
    "\r\n",
    "                    if (response < minResponse):\r\n",
    "                        minValOut[0] = response\r\n",
    "                        minValOut[1] = (x, y)\r\n",
    "                    \r\n",
    "                    p00_inner += xstep\r\n",
    "                    p01_inner += xstep\r\n",
    "                    p10_inner += xstep\r\n",
    "                    p11_inner += xstep\r\n",
    "\r\n",
    "                    p00_outer += xstep\r\n",
    "                    p01_outer += xstep\r\n",
    "                    p10_outer += xstep\r\n",
    "                    p11_outer += xstep\r\n",
    "        if (minValOut[0] < minResponse):\r\n",
    "            minResponse = minValOut[0]\r\n",
    "            pHaarPupil = minValOut[1]\r\n",
    "            haarRadius = r\r\n",
    "    \r\n",
    "    haarRadius = (int)(haarRadius * SQRT_2)\r\n",
    "\r\n",
    "    roiHaarPupil = (pHaarPupil[0]-r, pHaarPupil[1]-r, pHaarPupil[0]+r, pHaarPupil[1]+r) # y0 x0 y1 x1\r\n",
    "    mHaarPupil = getROI(img, roiHaarPupil)\r\n",
    "\r\n",
    "    # calculate histogram of pupil\r\n",
    "    hist = cv.calcHist(mHaarPupil, [1], None, [256], (0, 256))\r\n",
    "\r\n",
    "    return (roiHaarPupil, mHaarPupil, hist, minValOut)\r\n"
   ],
   "outputs": [],
   "metadata": {}
  },
  {
   "cell_type": "code",
   "execution_count": 62,
   "source": [
    "# capture one frame for sample\r\n",
    "cap = cv.VideoCapture('F:\\\\LEONLAH\\\\myprojects\\\\dyslexia-eyetracking\\\\docs\\\\eyesample-d.jpg')\r\n",
    "_, frame = cap.read()\r\n",
    "cap.release()"
   ],
   "outputs": [],
   "metadata": {}
  },
  {
   "cell_type": "code",
   "execution_count": 68,
   "source": [
    "class pupilParams:\r\n",
    "    def __init__(self):\r\n",
    "        self.r_min = 5\r\n",
    "        self.r_max = 10\r\n",
    "    \r\n",
    "    def setparam(self, min, max):\r\n",
    "        self.r_max = max\r\n",
    "        self.r_min = min\r\n",
    "\r\n",
    "pp = pupilParams()\r\n",
    "roiHaarPupil, mHaarPupil, hist, minRes = findPupilEllipse(frame, pp, None)"
   ],
   "outputs": [
    {
     "output_type": "stream",
     "name": "stdout",
     "text": [
      "100\n",
      "100\n",
      "100\n",
      "100\n",
      "100\n",
      "100\n",
      "100\n",
      "100\n",
      "100\n"
     ]
    },
    {
     "output_type": "error",
     "ename": "IndexError",
     "evalue": "index 449 is out of bounds for axis 0 with size 448",
     "traceback": [
      "\u001b[1;31m---------------------------------------------------------------------------\u001b[0m",
      "\u001b[1;31mIndexError\u001b[0m                                Traceback (most recent call last)",
      "\u001b[1;32m<ipython-input-68-4b49b6334efb>\u001b[0m in \u001b[0;36m<module>\u001b[1;34m\u001b[0m\n\u001b[0;32m      9\u001b[0m \u001b[1;33m\u001b[0m\u001b[0m\n\u001b[0;32m     10\u001b[0m \u001b[0mpp\u001b[0m \u001b[1;33m=\u001b[0m \u001b[0mpupilParams\u001b[0m\u001b[1;33m(\u001b[0m\u001b[1;33m)\u001b[0m\u001b[1;33m\u001b[0m\u001b[1;33m\u001b[0m\u001b[0m\n\u001b[1;32m---> 11\u001b[1;33m \u001b[0mroiHaarPupil\u001b[0m\u001b[1;33m,\u001b[0m \u001b[0mmHaarPupil\u001b[0m\u001b[1;33m,\u001b[0m \u001b[0mhist\u001b[0m\u001b[1;33m,\u001b[0m \u001b[0mminRes\u001b[0m \u001b[1;33m=\u001b[0m \u001b[0mfindPupilEllipse\u001b[0m\u001b[1;33m(\u001b[0m\u001b[0mframe\u001b[0m\u001b[1;33m,\u001b[0m \u001b[0mpp\u001b[0m\u001b[1;33m,\u001b[0m \u001b[1;32mNone\u001b[0m\u001b[1;33m)\u001b[0m\u001b[1;33m\u001b[0m\u001b[1;33m\u001b[0m\u001b[0m\n\u001b[0m",
      "\u001b[1;32m<ipython-input-67-46b9634f369b>\u001b[0m in \u001b[0;36mfindPupilEllipse\u001b[1;34m(img, pupilParams, out)\u001b[0m\n\u001b[0;32m     89\u001b[0m                 \u001b[0mlower_inner\u001b[0m \u001b[1;33m=\u001b[0m \u001b[0mintegral\u001b[0m\u001b[1;33m[\u001b[0m\u001b[0my\u001b[0m \u001b[1;33m+\u001b[0m \u001b[0mpadding\u001b[0m \u001b[1;33m+\u001b[0m \u001b[0mr_inner\u001b[0m \u001b[1;33m+\u001b[0m \u001b[1;36m1\u001b[0m\u001b[1;33m]\u001b[0m\u001b[1;33m\u001b[0m\u001b[1;33m\u001b[0m\u001b[0m\n\u001b[0;32m     90\u001b[0m                 \u001b[0mupper_outer\u001b[0m \u001b[1;33m=\u001b[0m \u001b[0mintegral\u001b[0m\u001b[1;33m[\u001b[0m\u001b[0my\u001b[0m \u001b[1;33m+\u001b[0m \u001b[0mpadding\u001b[0m \u001b[1;33m-\u001b[0m \u001b[0mr_outer\u001b[0m\u001b[1;33m]\u001b[0m\u001b[1;33m\u001b[0m\u001b[1;33m\u001b[0m\u001b[0m\n\u001b[1;32m---> 91\u001b[1;33m                 \u001b[0mlower_outer\u001b[0m \u001b[1;33m=\u001b[0m \u001b[0mintegral\u001b[0m\u001b[1;33m[\u001b[0m\u001b[0my\u001b[0m \u001b[1;33m+\u001b[0m \u001b[0mpadding\u001b[0m \u001b[1;33m+\u001b[0m \u001b[0mr_outer\u001b[0m \u001b[1;33m+\u001b[0m \u001b[1;36m1\u001b[0m\u001b[1;33m]\u001b[0m\u001b[1;33m\u001b[0m\u001b[1;33m\u001b[0m\u001b[0m\n\u001b[0m\u001b[0;32m     92\u001b[0m \u001b[1;33m\u001b[0m\u001b[0m\n\u001b[0;32m     93\u001b[0m                 \u001b[0mp00_inner\u001b[0m \u001b[1;33m=\u001b[0m \u001b[0mupper_inner\u001b[0m\u001b[1;33m[\u001b[0m\u001b[0mr\u001b[0m \u001b[1;33m+\u001b[0m \u001b[0mpadding\u001b[0m \u001b[1;33m-\u001b[0m \u001b[0mr_inner\u001b[0m\u001b[1;33m]\u001b[0m\u001b[1;33m\u001b[0m\u001b[1;33m\u001b[0m\u001b[0m\n",
      "\u001b[1;31mIndexError\u001b[0m: index 449 is out of bounds for axis 0 with size 448"
     ]
    }
   ],
   "metadata": {}
  },
  {
   "cell_type": "code",
   "execution_count": 55,
   "source": [
    "padding = 2 * 10\r\n",
    "gray = cv.cvtColor(frame, cv.COLOR_BGR2GRAY)\r\n",
    "# expand img to allow haar kernel to scan all edges without out-of-bound cases.\r\n",
    "imgPad = cv.copyMakeBorder(gray, padding, padding, padding, padding, cv.BORDER_REPLICATE)\r\n",
    "integral = cv.integral(imgPad)"
   ],
   "outputs": [],
   "metadata": {}
  },
  {
   "cell_type": "code",
   "execution_count": null,
   "source": [
    "plt.plot(hist)"
   ],
   "outputs": [
    {
     "output_type": "execute_result",
     "data": {
      "text/plain": [
       "[<matplotlib.lines.Line2D at 0x1ff011b07f0>]"
      ]
     },
     "metadata": {},
     "execution_count": 45
    },
    {
     "output_type": "display_data",
     "data": {
      "text/plain": [
       "<Figure size 432x288 with 1 Axes>"
      ],
      "image/svg+xml": "<?xml version=\"1.0\" encoding=\"utf-8\" standalone=\"no\"?>\r\n<!DOCTYPE svg PUBLIC \"-//W3C//DTD SVG 1.1//EN\"\r\n  \"http://www.w3.org/Graphics/SVG/1.1/DTD/svg11.dtd\">\r\n<svg height=\"248.847867pt\" version=\"1.1\" viewBox=\"0 0 375.2875 248.847867\" width=\"375.2875pt\" xmlns=\"http://www.w3.org/2000/svg\" xmlns:xlink=\"http://www.w3.org/1999/xlink\">\r\n <metadata>\r\n  <rdf:RDF xmlns:cc=\"http://creativecommons.org/ns#\" xmlns:dc=\"http://purl.org/dc/elements/1.1/\" xmlns:rdf=\"http://www.w3.org/1999/02/22-rdf-syntax-ns#\">\r\n   <cc:Work>\r\n    <dc:type rdf:resource=\"http://purl.org/dc/dcmitype/StillImage\"/>\r\n    <dc:date>2021-08-30T15:54:01.246721</dc:date>\r\n    <dc:format>image/svg+xml</dc:format>\r\n    <dc:creator>\r\n     <cc:Agent>\r\n      <dc:title>Matplotlib v3.4.2, https://matplotlib.org/</dc:title>\r\n     </cc:Agent>\r\n    </dc:creator>\r\n   </cc:Work>\r\n  </rdf:RDF>\r\n </metadata>\r\n <defs>\r\n  <style type=\"text/css\">*{stroke-linecap:butt;stroke-linejoin:round;}</style>\r\n </defs>\r\n <g id=\"figure_1\">\r\n  <g id=\"patch_1\">\r\n   <path d=\"M 0 248.847867 \r\nL 375.2875 248.847867 \r\nL 375.2875 0 \r\nL 0 0 \r\nz\r\n\" style=\"fill:none;\"/>\r\n  </g>\r\n  <g id=\"axes_1\">\r\n   <g id=\"patch_2\">\r\n    <path d=\"M 33.2875 224.969742 \r\nL 368.0875 224.969742 \r\nL 368.0875 7.529742 \r\nL 33.2875 7.529742 \r\nz\r\n\" style=\"fill:#ffffff;\"/>\r\n   </g>\r\n   <g id=\"matplotlib.axis_1\">\r\n    <g id=\"xtick_1\">\r\n     <g id=\"line2d_1\">\r\n      <defs>\r\n       <path d=\"M 0 0 \r\nL 0 3.5 \r\n\" id=\"mad71eb18f3\" style=\"stroke:#000000;stroke-width:0.8;\"/>\r\n      </defs>\r\n      <g>\r\n       <use style=\"stroke:#000000;stroke-width:0.8;\" x=\"48.505682\" xlink:href=\"#mad71eb18f3\" y=\"224.969742\"/>\r\n      </g>\r\n     </g>\r\n     <g id=\"text_1\">\r\n      <!-- 0 -->\r\n      <g transform=\"translate(45.324432 239.568179)scale(0.1 -0.1)\">\r\n       <defs>\r\n        <path d=\"M 2034 4250 \r\nQ 1547 4250 1301 3770 \r\nQ 1056 3291 1056 2328 \r\nQ 1056 1369 1301 889 \r\nQ 1547 409 2034 409 \r\nQ 2525 409 2770 889 \r\nQ 3016 1369 3016 2328 \r\nQ 3016 3291 2770 3770 \r\nQ 2525 4250 2034 4250 \r\nz\r\nM 2034 4750 \r\nQ 2819 4750 3233 4129 \r\nQ 3647 3509 3647 2328 \r\nQ 3647 1150 3233 529 \r\nQ 2819 -91 2034 -91 \r\nQ 1250 -91 836 529 \r\nQ 422 1150 422 2328 \r\nQ 422 3509 836 4129 \r\nQ 1250 4750 2034 4750 \r\nz\r\n\" id=\"DejaVuSans-30\" transform=\"scale(0.015625)\"/>\r\n       </defs>\r\n       <use xlink:href=\"#DejaVuSans-30\"/>\r\n      </g>\r\n     </g>\r\n    </g>\r\n    <g id=\"xtick_2\">\r\n     <g id=\"line2d_2\">\r\n      <g>\r\n       <use style=\"stroke:#000000;stroke-width:0.8;\" x=\"108.184826\" xlink:href=\"#mad71eb18f3\" y=\"224.969742\"/>\r\n      </g>\r\n     </g>\r\n     <g id=\"text_2\">\r\n      <!-- 50 -->\r\n      <g transform=\"translate(101.822326 239.568179)scale(0.1 -0.1)\">\r\n       <defs>\r\n        <path d=\"M 691 4666 \r\nL 3169 4666 \r\nL 3169 4134 \r\nL 1269 4134 \r\nL 1269 2991 \r\nQ 1406 3038 1543 3061 \r\nQ 1681 3084 1819 3084 \r\nQ 2600 3084 3056 2656 \r\nQ 3513 2228 3513 1497 \r\nQ 3513 744 3044 326 \r\nQ 2575 -91 1722 -91 \r\nQ 1428 -91 1123 -41 \r\nQ 819 9 494 109 \r\nL 494 744 \r\nQ 775 591 1075 516 \r\nQ 1375 441 1709 441 \r\nQ 2250 441 2565 725 \r\nQ 2881 1009 2881 1497 \r\nQ 2881 1984 2565 2268 \r\nQ 2250 2553 1709 2553 \r\nQ 1456 2553 1204 2497 \r\nQ 953 2441 691 2322 \r\nL 691 4666 \r\nz\r\n\" id=\"DejaVuSans-35\" transform=\"scale(0.015625)\"/>\r\n       </defs>\r\n       <use xlink:href=\"#DejaVuSans-35\"/>\r\n       <use x=\"63.623047\" xlink:href=\"#DejaVuSans-30\"/>\r\n      </g>\r\n     </g>\r\n    </g>\r\n    <g id=\"xtick_3\">\r\n     <g id=\"line2d_3\">\r\n      <g>\r\n       <use style=\"stroke:#000000;stroke-width:0.8;\" x=\"167.863971\" xlink:href=\"#mad71eb18f3\" y=\"224.969742\"/>\r\n      </g>\r\n     </g>\r\n     <g id=\"text_3\">\r\n      <!-- 100 -->\r\n      <g transform=\"translate(158.320221 239.568179)scale(0.1 -0.1)\">\r\n       <defs>\r\n        <path d=\"M 794 531 \r\nL 1825 531 \r\nL 1825 4091 \r\nL 703 3866 \r\nL 703 4441 \r\nL 1819 4666 \r\nL 2450 4666 \r\nL 2450 531 \r\nL 3481 531 \r\nL 3481 0 \r\nL 794 0 \r\nL 794 531 \r\nz\r\n\" id=\"DejaVuSans-31\" transform=\"scale(0.015625)\"/>\r\n       </defs>\r\n       <use xlink:href=\"#DejaVuSans-31\"/>\r\n       <use x=\"63.623047\" xlink:href=\"#DejaVuSans-30\"/>\r\n       <use x=\"127.246094\" xlink:href=\"#DejaVuSans-30\"/>\r\n      </g>\r\n     </g>\r\n    </g>\r\n    <g id=\"xtick_4\">\r\n     <g id=\"line2d_4\">\r\n      <g>\r\n       <use style=\"stroke:#000000;stroke-width:0.8;\" x=\"227.543115\" xlink:href=\"#mad71eb18f3\" y=\"224.969742\"/>\r\n      </g>\r\n     </g>\r\n     <g id=\"text_4\">\r\n      <!-- 150 -->\r\n      <g transform=\"translate(217.999365 239.568179)scale(0.1 -0.1)\">\r\n       <use xlink:href=\"#DejaVuSans-31\"/>\r\n       <use x=\"63.623047\" xlink:href=\"#DejaVuSans-35\"/>\r\n       <use x=\"127.246094\" xlink:href=\"#DejaVuSans-30\"/>\r\n      </g>\r\n     </g>\r\n    </g>\r\n    <g id=\"xtick_5\">\r\n     <g id=\"line2d_5\">\r\n      <g>\r\n       <use style=\"stroke:#000000;stroke-width:0.8;\" x=\"287.222259\" xlink:href=\"#mad71eb18f3\" y=\"224.969742\"/>\r\n      </g>\r\n     </g>\r\n     <g id=\"text_5\">\r\n      <!-- 200 -->\r\n      <g transform=\"translate(277.678509 239.568179)scale(0.1 -0.1)\">\r\n       <defs>\r\n        <path d=\"M 1228 531 \r\nL 3431 531 \r\nL 3431 0 \r\nL 469 0 \r\nL 469 531 \r\nQ 828 903 1448 1529 \r\nQ 2069 2156 2228 2338 \r\nQ 2531 2678 2651 2914 \r\nQ 2772 3150 2772 3378 \r\nQ 2772 3750 2511 3984 \r\nQ 2250 4219 1831 4219 \r\nQ 1534 4219 1204 4116 \r\nQ 875 4013 500 3803 \r\nL 500 4441 \r\nQ 881 4594 1212 4672 \r\nQ 1544 4750 1819 4750 \r\nQ 2544 4750 2975 4387 \r\nQ 3406 4025 3406 3419 \r\nQ 3406 3131 3298 2873 \r\nQ 3191 2616 2906 2266 \r\nQ 2828 2175 2409 1742 \r\nQ 1991 1309 1228 531 \r\nz\r\n\" id=\"DejaVuSans-32\" transform=\"scale(0.015625)\"/>\r\n       </defs>\r\n       <use xlink:href=\"#DejaVuSans-32\"/>\r\n       <use x=\"63.623047\" xlink:href=\"#DejaVuSans-30\"/>\r\n       <use x=\"127.246094\" xlink:href=\"#DejaVuSans-30\"/>\r\n      </g>\r\n     </g>\r\n    </g>\r\n    <g id=\"xtick_6\">\r\n     <g id=\"line2d_6\">\r\n      <g>\r\n       <use style=\"stroke:#000000;stroke-width:0.8;\" x=\"346.901404\" xlink:href=\"#mad71eb18f3\" y=\"224.969742\"/>\r\n      </g>\r\n     </g>\r\n     <g id=\"text_6\">\r\n      <!-- 250 -->\r\n      <g transform=\"translate(337.357654 239.568179)scale(0.1 -0.1)\">\r\n       <use xlink:href=\"#DejaVuSans-32\"/>\r\n       <use x=\"63.623047\" xlink:href=\"#DejaVuSans-35\"/>\r\n       <use x=\"127.246094\" xlink:href=\"#DejaVuSans-30\"/>\r\n      </g>\r\n     </g>\r\n    </g>\r\n   </g>\r\n   <g id=\"matplotlib.axis_2\">\r\n    <g id=\"ytick_1\">\r\n     <g id=\"line2d_7\">\r\n      <defs>\r\n       <path d=\"M 0 0 \r\nL -3.5 0 \r\n\" id=\"m677a47027c\" style=\"stroke:#000000;stroke-width:0.8;\"/>\r\n      </defs>\r\n      <g>\r\n       <use style=\"stroke:#000000;stroke-width:0.8;\" x=\"33.2875\" xlink:href=\"#m677a47027c\" y=\"215.086105\"/>\r\n      </g>\r\n     </g>\r\n     <g id=\"text_7\">\r\n      <!-- 0 -->\r\n      <g transform=\"translate(19.925 218.885324)scale(0.1 -0.1)\">\r\n       <use xlink:href=\"#DejaVuSans-30\"/>\r\n      </g>\r\n     </g>\r\n    </g>\r\n    <g id=\"ytick_2\">\r\n     <g id=\"line2d_8\">\r\n      <g>\r\n       <use style=\"stroke:#000000;stroke-width:0.8;\" x=\"33.2875\" xlink:href=\"#m677a47027c\" y=\"185.930836\"/>\r\n      </g>\r\n     </g>\r\n     <g id=\"text_8\">\r\n      <!-- 100 -->\r\n      <g transform=\"translate(7.2 189.730055)scale(0.1 -0.1)\">\r\n       <use xlink:href=\"#DejaVuSans-31\"/>\r\n       <use x=\"63.623047\" xlink:href=\"#DejaVuSans-30\"/>\r\n       <use x=\"127.246094\" xlink:href=\"#DejaVuSans-30\"/>\r\n      </g>\r\n     </g>\r\n    </g>\r\n    <g id=\"ytick_3\">\r\n     <g id=\"line2d_9\">\r\n      <g>\r\n       <use style=\"stroke:#000000;stroke-width:0.8;\" x=\"33.2875\" xlink:href=\"#m677a47027c\" y=\"156.775566\"/>\r\n      </g>\r\n     </g>\r\n     <g id=\"text_9\">\r\n      <!-- 200 -->\r\n      <g transform=\"translate(7.2 160.574785)scale(0.1 -0.1)\">\r\n       <use xlink:href=\"#DejaVuSans-32\"/>\r\n       <use x=\"63.623047\" xlink:href=\"#DejaVuSans-30\"/>\r\n       <use x=\"127.246094\" xlink:href=\"#DejaVuSans-30\"/>\r\n      </g>\r\n     </g>\r\n    </g>\r\n    <g id=\"ytick_4\">\r\n     <g id=\"line2d_10\">\r\n      <g>\r\n       <use style=\"stroke:#000000;stroke-width:0.8;\" x=\"33.2875\" xlink:href=\"#m677a47027c\" y=\"127.620297\"/>\r\n      </g>\r\n     </g>\r\n     <g id=\"text_10\">\r\n      <!-- 300 -->\r\n      <g transform=\"translate(7.2 131.419516)scale(0.1 -0.1)\">\r\n       <defs>\r\n        <path d=\"M 2597 2516 \r\nQ 3050 2419 3304 2112 \r\nQ 3559 1806 3559 1356 \r\nQ 3559 666 3084 287 \r\nQ 2609 -91 1734 -91 \r\nQ 1441 -91 1130 -33 \r\nQ 819 25 488 141 \r\nL 488 750 \r\nQ 750 597 1062 519 \r\nQ 1375 441 1716 441 \r\nQ 2309 441 2620 675 \r\nQ 2931 909 2931 1356 \r\nQ 2931 1769 2642 2001 \r\nQ 2353 2234 1838 2234 \r\nL 1294 2234 \r\nL 1294 2753 \r\nL 1863 2753 \r\nQ 2328 2753 2575 2939 \r\nQ 2822 3125 2822 3475 \r\nQ 2822 3834 2567 4026 \r\nQ 2313 4219 1838 4219 \r\nQ 1578 4219 1281 4162 \r\nQ 984 4106 628 3988 \r\nL 628 4550 \r\nQ 988 4650 1302 4700 \r\nQ 1616 4750 1894 4750 \r\nQ 2613 4750 3031 4423 \r\nQ 3450 4097 3450 3541 \r\nQ 3450 3153 3228 2886 \r\nQ 3006 2619 2597 2516 \r\nz\r\n\" id=\"DejaVuSans-33\" transform=\"scale(0.015625)\"/>\r\n       </defs>\r\n       <use xlink:href=\"#DejaVuSans-33\"/>\r\n       <use x=\"63.623047\" xlink:href=\"#DejaVuSans-30\"/>\r\n       <use x=\"127.246094\" xlink:href=\"#DejaVuSans-30\"/>\r\n      </g>\r\n     </g>\r\n    </g>\r\n    <g id=\"ytick_5\">\r\n     <g id=\"line2d_11\">\r\n      <g>\r\n       <use style=\"stroke:#000000;stroke-width:0.8;\" x=\"33.2875\" xlink:href=\"#m677a47027c\" y=\"98.465027\"/>\r\n      </g>\r\n     </g>\r\n     <g id=\"text_11\">\r\n      <!-- 400 -->\r\n      <g transform=\"translate(7.2 102.264246)scale(0.1 -0.1)\">\r\n       <defs>\r\n        <path d=\"M 2419 4116 \r\nL 825 1625 \r\nL 2419 1625 \r\nL 2419 4116 \r\nz\r\nM 2253 4666 \r\nL 3047 4666 \r\nL 3047 1625 \r\nL 3713 1625 \r\nL 3713 1100 \r\nL 3047 1100 \r\nL 3047 0 \r\nL 2419 0 \r\nL 2419 1100 \r\nL 313 1100 \r\nL 313 1709 \r\nL 2253 4666 \r\nz\r\n\" id=\"DejaVuSans-34\" transform=\"scale(0.015625)\"/>\r\n       </defs>\r\n       <use xlink:href=\"#DejaVuSans-34\"/>\r\n       <use x=\"63.623047\" xlink:href=\"#DejaVuSans-30\"/>\r\n       <use x=\"127.246094\" xlink:href=\"#DejaVuSans-30\"/>\r\n      </g>\r\n     </g>\r\n    </g>\r\n    <g id=\"ytick_6\">\r\n     <g id=\"line2d_12\">\r\n      <g>\r\n       <use style=\"stroke:#000000;stroke-width:0.8;\" x=\"33.2875\" xlink:href=\"#m677a47027c\" y=\"69.309758\"/>\r\n      </g>\r\n     </g>\r\n     <g id=\"text_12\">\r\n      <!-- 500 -->\r\n      <g transform=\"translate(7.2 73.108977)scale(0.1 -0.1)\">\r\n       <use xlink:href=\"#DejaVuSans-35\"/>\r\n       <use x=\"63.623047\" xlink:href=\"#DejaVuSans-30\"/>\r\n       <use x=\"127.246094\" xlink:href=\"#DejaVuSans-30\"/>\r\n      </g>\r\n     </g>\r\n    </g>\r\n    <g id=\"ytick_7\">\r\n     <g id=\"line2d_13\">\r\n      <g>\r\n       <use style=\"stroke:#000000;stroke-width:0.8;\" x=\"33.2875\" xlink:href=\"#m677a47027c\" y=\"40.154488\"/>\r\n      </g>\r\n     </g>\r\n     <g id=\"text_13\">\r\n      <!-- 600 -->\r\n      <g transform=\"translate(7.2 43.953707)scale(0.1 -0.1)\">\r\n       <defs>\r\n        <path d=\"M 2113 2584 \r\nQ 1688 2584 1439 2293 \r\nQ 1191 2003 1191 1497 \r\nQ 1191 994 1439 701 \r\nQ 1688 409 2113 409 \r\nQ 2538 409 2786 701 \r\nQ 3034 994 3034 1497 \r\nQ 3034 2003 2786 2293 \r\nQ 2538 2584 2113 2584 \r\nz\r\nM 3366 4563 \r\nL 3366 3988 \r\nQ 3128 4100 2886 4159 \r\nQ 2644 4219 2406 4219 \r\nQ 1781 4219 1451 3797 \r\nQ 1122 3375 1075 2522 \r\nQ 1259 2794 1537 2939 \r\nQ 1816 3084 2150 3084 \r\nQ 2853 3084 3261 2657 \r\nQ 3669 2231 3669 1497 \r\nQ 3669 778 3244 343 \r\nQ 2819 -91 2113 -91 \r\nQ 1303 -91 875 529 \r\nQ 447 1150 447 2328 \r\nQ 447 3434 972 4092 \r\nQ 1497 4750 2381 4750 \r\nQ 2619 4750 2861 4703 \r\nQ 3103 4656 3366 4563 \r\nz\r\n\" id=\"DejaVuSans-36\" transform=\"scale(0.015625)\"/>\r\n       </defs>\r\n       <use xlink:href=\"#DejaVuSans-36\"/>\r\n       <use x=\"63.623047\" xlink:href=\"#DejaVuSans-30\"/>\r\n       <use x=\"127.246094\" xlink:href=\"#DejaVuSans-30\"/>\r\n      </g>\r\n     </g>\r\n    </g>\r\n    <g id=\"ytick_8\">\r\n     <g id=\"line2d_14\">\r\n      <g>\r\n       <use style=\"stroke:#000000;stroke-width:0.8;\" x=\"33.2875\" xlink:href=\"#m677a47027c\" y=\"10.999219\"/>\r\n      </g>\r\n     </g>\r\n     <g id=\"text_14\">\r\n      <!-- 700 -->\r\n      <g transform=\"translate(7.2 14.798437)scale(0.1 -0.1)\">\r\n       <defs>\r\n        <path d=\"M 525 4666 \r\nL 3525 4666 \r\nL 3525 4397 \r\nL 1831 0 \r\nL 1172 0 \r\nL 2766 4134 \r\nL 525 4134 \r\nL 525 4666 \r\nz\r\n\" id=\"DejaVuSans-37\" transform=\"scale(0.015625)\"/>\r\n       </defs>\r\n       <use xlink:href=\"#DejaVuSans-37\"/>\r\n       <use x=\"63.623047\" xlink:href=\"#DejaVuSans-30\"/>\r\n       <use x=\"127.246094\" xlink:href=\"#DejaVuSans-30\"/>\r\n      </g>\r\n     </g>\r\n    </g>\r\n   </g>\r\n   <g id=\"line2d_15\">\r\n    <path clip-path=\"url(#pa3bae64643)\" d=\"M 48.505682 215.086105 \r\nL 56.860762 215.086105 \r\nL 58.054345 214.503 \r\nL 59.247928 212.753684 \r\nL 61.635094 212.753684 \r\nL 62.828676 208.963499 \r\nL 64.022259 211.879026 \r\nL 65.215842 209.838157 \r\nL 66.409425 210.421262 \r\nL 67.603008 212.170578 \r\nL 68.796591 207.797288 \r\nL 69.990174 211.29592 \r\nL 72.37734 213.628342 \r\nL 73.570922 213.045236 \r\nL 74.764505 213.919895 \r\nL 75.958088 213.628342 \r\nL 77.151671 213.628342 \r\nL 78.345254 213.336789 \r\nL 79.538837 213.336789 \r\nL 80.73242 212.753684 \r\nL 81.926003 213.045236 \r\nL 84.313168 213.045236 \r\nL 85.506751 212.170578 \r\nL 86.700334 213.628342 \r\nL 87.893917 211.587473 \r\nL 89.0875 213.919895 \r\nL 90.281083 213.045236 \r\nL 91.474666 213.628342 \r\nL 92.668249 213.628342 \r\nL 93.861832 212.462131 \r\nL 95.055414 212.753684 \r\nL 96.248997 210.712815 \r\nL 97.44258 209.546604 \r\nL 98.636163 208.088841 \r\nL 99.829746 209.546604 \r\nL 101.023329 209.255051 \r\nL 102.216912 210.712815 \r\nL 103.410495 211.004368 \r\nL 104.604078 208.963499 \r\nL 105.79766 208.963499 \r\nL 106.991243 212.462131 \r\nL 108.184826 209.546604 \r\nL 109.378409 209.546604 \r\nL 110.571992 207.505735 \r\nL 111.765575 202.840892 \r\nL 112.959158 208.088841 \r\nL 114.152741 209.255051 \r\nL 115.346324 208.963499 \r\nL 116.539906 206.92263 \r\nL 117.733489 208.671946 \r\nL 118.927072 210.129709 \r\nL 120.120655 208.963499 \r\nL 121.314238 211.004368 \r\nL 122.507821 211.004368 \r\nL 123.701404 210.712815 \r\nL 124.894987 211.587473 \r\nL 126.08857 211.004368 \r\nL 127.282152 210.129709 \r\nL 128.475735 212.462131 \r\nL 129.669318 210.712815 \r\nL 130.862901 213.045236 \r\nL 132.056484 213.045236 \r\nL 133.250067 211.879026 \r\nL 134.44365 210.421262 \r\nL 135.637233 209.546604 \r\nL 136.830816 211.587473 \r\nL 138.024398 209.546604 \r\nL 139.217981 211.004368 \r\nL 140.411564 210.712815 \r\nL 141.605147 209.255051 \r\nL 142.79873 210.421262 \r\nL 143.992313 210.129709 \r\nL 145.185896 212.753684 \r\nL 146.379479 212.753684 \r\nL 147.573061 211.004368 \r\nL 149.960227 211.004368 \r\nL 151.15381 209.255051 \r\nL 152.347393 207.797288 \r\nL 153.540976 206.92263 \r\nL 154.734559 209.546604 \r\nL 155.928142 207.214183 \r\nL 157.121725 206.92263 \r\nL 158.315307 208.088841 \r\nL 159.50889 209.838157 \r\nL 160.702473 207.797288 \r\nL 161.896056 208.671946 \r\nL 163.089639 207.797288 \r\nL 164.283222 201.674681 \r\nL 165.476805 200.508471 \r\nL 166.670388 207.214183 \r\nL 167.863971 17.413378 \r\nL 169.057553 210.712815 \r\nL 171.444719 212.462131 \r\nL 172.638302 210.421262 \r\nL 173.831885 211.587473 \r\nL 175.025468 210.712815 \r\nL 176.219051 211.29592 \r\nL 177.412634 210.712815 \r\nL 178.606217 212.462131 \r\nL 179.799799 213.628342 \r\nL 180.993382 212.462131 \r\nL 182.186965 210.421262 \r\nL 184.574131 211.587473 \r\nL 185.767714 211.587473 \r\nL 186.961297 213.919895 \r\nL 188.15488 213.045236 \r\nL 189.348463 213.628342 \r\nL 190.542045 214.794553 \r\nL 191.735628 214.211447 \r\nL 192.929211 213.045236 \r\nL 194.122794 213.045236 \r\nL 195.316377 212.462131 \r\nL 198.897126 211.587473 \r\nL 200.090709 212.462131 \r\nL 201.284291 25.868406 \r\nL 202.477874 214.503 \r\nL 203.671457 213.336789 \r\nL 204.86504 214.211447 \r\nL 207.252206 214.794553 \r\nL 208.445789 214.794553 \r\nL 209.639372 215.086105 \r\nL 210.832955 214.211447 \r\nL 212.026537 213.919895 \r\nL 213.22012 214.794553 \r\nL 214.413703 213.919895 \r\nL 215.607286 214.794553 \r\nL 216.800869 215.086105 \r\nL 217.994452 214.503 \r\nL 220.381618 214.503 \r\nL 221.575201 215.086105 \r\nL 222.768783 215.086105 \r\nL 225.155949 213.919895 \r\nL 226.349532 214.503 \r\nL 227.543115 214.794553 \r\nL 228.736698 214.503 \r\nL 229.930281 215.086105 \r\nL 231.123864 214.211447 \r\nL 232.317447 214.794553 \r\nL 233.511029 214.211447 \r\nL 234.704612 213.045236 \r\nL 235.898195 214.211447 \r\nL 237.091778 214.211447 \r\nL 238.285361 211.587473 \r\nL 239.478944 213.336789 \r\nL 240.672527 213.045236 \r\nL 241.86611 213.336789 \r\nL 243.059693 214.503 \r\nL 244.253275 213.628342 \r\nL 245.446858 214.794553 \r\nL 246.640441 215.086105 \r\nL 247.834024 214.503 \r\nL 249.027607 214.503 \r\nL 250.22119 214.794553 \r\nL 251.414773 214.794553 \r\nL 252.608356 215.086105 \r\nL 253.801939 214.794553 \r\nL 254.995521 215.086105 \r\nL 256.189104 215.086105 \r\nL 258.57627 214.503 \r\nL 259.769853 213.919895 \r\nL 262.157019 214.503 \r\nL 263.350602 213.045236 \r\nL 264.544184 213.045236 \r\nL 265.737767 214.211447 \r\nL 266.93135 214.211447 \r\nL 268.124933 213.919895 \r\nL 269.318516 213.919895 \r\nL 270.512099 213.628342 \r\nL 271.705682 213.628342 \r\nL 272.899265 215.086105 \r\nL 274.092848 27.034617 \r\nL 275.28643 214.503 \r\nL 276.480013 214.794553 \r\nL 277.673596 213.919895 \r\nL 278.867179 214.794553 \r\nL 280.060762 215.086105 \r\nL 352.869318 215.086105 \r\nL 352.869318 215.086105 \r\n\" style=\"fill:none;stroke:#1f77b4;stroke-linecap:square;stroke-width:1.5;\"/>\r\n   </g>\r\n   <g id=\"patch_3\">\r\n    <path d=\"M 33.2875 224.969742 \r\nL 33.2875 7.529742 \r\n\" style=\"fill:none;stroke:#000000;stroke-linecap:square;stroke-linejoin:miter;stroke-width:0.8;\"/>\r\n   </g>\r\n   <g id=\"patch_4\">\r\n    <path d=\"M 368.0875 224.969742 \r\nL 368.0875 7.529742 \r\n\" style=\"fill:none;stroke:#000000;stroke-linecap:square;stroke-linejoin:miter;stroke-width:0.8;\"/>\r\n   </g>\r\n   <g id=\"patch_5\">\r\n    <path d=\"M 33.2875 224.969742 \r\nL 368.0875 224.969742 \r\n\" style=\"fill:none;stroke:#000000;stroke-linecap:square;stroke-linejoin:miter;stroke-width:0.8;\"/>\r\n   </g>\r\n   <g id=\"patch_6\">\r\n    <path d=\"M 33.2875 7.529742 \r\nL 368.0875 7.529742 \r\n\" style=\"fill:none;stroke:#000000;stroke-linecap:square;stroke-linejoin:miter;stroke-width:0.8;\"/>\r\n   </g>\r\n  </g>\r\n </g>\r\n <defs>\r\n  <clipPath id=\"pa3bae64643\">\r\n   <rect height=\"217.44\" width=\"334.8\" x=\"33.2875\" y=\"7.529742\"/>\r\n  </clipPath>\r\n </defs>\r\n</svg>\r\n",
      "image/png": "[encoded data removed]"
     },
     "metadata": {
      "needs_background": "light"
     }
    }
   ],
   "metadata": {}
  },
  {
   "cell_type": "code",
   "execution_count": 61,
   "source": [
    "marked = copy.deepcopy(frame)\r\n",
    "cv.circle(marked, minRes[1], 2, (100, 0, 255), thickness=3)\r\n",
    "cv.imshow('mhaarpupil', mHaarPupil)\r\n",
    "cv.imshow('img', marked)\r\n",
    "cv.imshow('padded', imgPad)\r\n",
    "while(1):\r\n",
    "    if cv.waitKey(1) == 27:\r\n",
    "        break\r\n",
    "cv.destroyAllWindows()"
   ],
   "outputs": [],
   "metadata": {}
  },
  {
   "cell_type": "code",
   "execution_count": 60,
   "source": [
    "imgPad.shape, frame.shape"
   ],
   "outputs": [
    {
     "output_type": "execute_result",
     "data": {
      "text/plain": [
       "((447, 682), (407, 642, 3))"
      ]
     },
     "metadata": {},
     "execution_count": 60
    }
   ],
   "metadata": {}
  },
  {
   "cell_type": "code",
   "execution_count": null,
   "source": [
    "roiHaarPupil, minRes"
   ],
   "outputs": [
    {
     "output_type": "execute_result",
     "data": {
      "text/plain": [
       "((624, 379, 642, 397), [97685.625, (633, 388)])"
      ]
     },
     "metadata": {},
     "execution_count": 46
    }
   ],
   "metadata": {}
  },
  {
   "cell_type": "code",
   "execution_count": 53,
   "source": [
    "t = np.array([[1, 1, 1], [2, 2, 2], [3, 3, 3]])\r\n",
    "cv.copyMakeBorder(t, 2, 2, 2, 2, cv.BORDER_REPLICATE)"
   ],
   "outputs": [
    {
     "output_type": "execute_result",
     "data": {
      "text/plain": [
       "array([[1, 1, 1, 1, 1, 1, 1],\n",
       "       [1, 1, 1, 1, 1, 1, 1],\n",
       "       [1, 1, 1, 1, 1, 1, 1],\n",
       "       [2, 2, 2, 2, 2, 2, 2],\n",
       "       [3, 3, 3, 3, 3, 3, 3],\n",
       "       [3, 3, 3, 3, 3, 3, 3],\n",
       "       [3, 3, 3, 3, 3, 3, 3]], dtype=int32)"
      ]
     },
     "metadata": {},
     "execution_count": 53
    }
   ],
   "metadata": {}
  },
  {
   "cell_type": "code",
   "execution_count": null,
   "source": [],
   "outputs": [],
   "metadata": {}
  }
 ],
 "metadata": {
  "orig_nbformat": 4,
  "language_info": {
   "name": "python",
   "version": "3.9.5",
   "mimetype": "text/x-python",
   "codemirror_mode": {
    "name": "ipython",
    "version": 3
   },
   "pygments_lexer": "ipython3",
   "nbconvert_exporter": "python",
   "file_extension": ".py"
  },
  "kernelspec": {
   "name": "python3",
   "display_name": "Python 3.9.5 64-bit ('venv39': venv)"
  },
  "interpreter": {
   "hash": "e8b6524c450c5d98d11f2aae87784ccfdea9afab3c2d30f212cb34ae5e00c58b"
  }
 },
 "nbformat": 4,
 "nbformat_minor": 2
}